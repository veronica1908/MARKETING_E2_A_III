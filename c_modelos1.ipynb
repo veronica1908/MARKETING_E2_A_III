{
  "nbformat": 4,
  "nbformat_minor": 0,
  "metadata": {
    "colab": {
      "provenance": [],
      "authorship_tag": "ABX9TyNOZ3p3r1T+wqV+unni7ald",
      "include_colab_link": true
    },
    "kernelspec": {
      "name": "python3",
      "display_name": "Python 3"
    },
    "language_info": {
      "name": "python"
    }
  },
  "cells": [
    {
      "cell_type": "markdown",
      "metadata": {
        "id": "view-in-github",
        "colab_type": "text"
      },
      "source": [
        "<a href=\"https://colab.research.google.com/github/veronica1908/MARKETING_E2_A_III/blob/main/c_modelos1.ipynb\" target=\"_parent\"><img src=\"https://colab.research.google.com/assets/colab-badge.svg\" alt=\"Open In Colab\"/></a>"
      ]
    },
    {
      "cell_type": "markdown",
      "source": [
        "# Cargar paquetes y librerías"
      ],
      "metadata": {
        "id": "EHaIz6zarZAp"
      }
    },
    {
      "cell_type": "code",
      "execution_count": 49,
      "metadata": {
        "id": "mH55J-iwpC7O"
      },
      "outputs": [],
      "source": [
        "import numpy as np\n",
        "import pandas as pd\n",
        "import sqlite3\n",
        "from sklearn.preprocessing import MinMaxScaler\n",
        "from ipywidgets import interact ## para análisis interactivo\n",
        "from sklearn import neighbors ### basado en contenido un solo producto consumido\n",
        "import joblib"
      ]
    },
    {
      "cell_type": "code",
      "source": [
        "#Verificar tablas creadas en el script\n",
        "# Conectarse a la base de datos\n",
        "conn = sqlite3.connect('db_moviesF')\n",
        "\n",
        "# Crear un cursor\n",
        "cur = conn.cursor()\n",
        "\n",
        "# Obtener una lista de tablas en la base de datos\n",
        "cur.execute(\"SELECT name FROM sqlite_master WHERE type='table';\")\n",
        "tables = cur.fetchall()\n",
        "\n",
        "# Imprimir los nombres de las tablas para verificar la información\n",
        "for table in tables:\n",
        "    print(table[0])"
      ],
      "metadata": {
        "colab": {
          "base_uri": "https://localhost:8080/"
        },
        "id": "UHRtSxI-6Mvn",
        "outputId": "c75696fc-f85f-41c8-f53b-a3df03deecaf"
      },
      "execution_count": 50,
      "outputs": [
        {
          "output_type": "stream",
          "name": "stdout",
          "text": [
            "ratings\n",
            "movies\n",
            "usuarios_sel\n",
            "movies_sel\n",
            "ratings_final\n",
            "movies_final\n",
            "full_ratings\n"
          ]
        }
      ]
    },
    {
      "cell_type": "markdown",
      "source": [
        "# Sistemas basados en popularidad"
      ],
      "metadata": {
        "id": "erqRe2Q6rWv0"
      }
    },
    {
      "cell_type": "markdown",
      "source": [
        "##Recomendaciones basado en popularidad"
      ],
      "metadata": {
        "id": "wotD7HS68X4R"
      }
    },
    {
      "cell_type": "code",
      "source": [
        "#### Películas mejores calificadas que tengan calificaciÓn\n",
        "pd.read_sql(\"\"\"\n",
        "SELECT movie_title,\n",
        "       avg(rating) as avg_rat,\n",
        "       count(*) as read_num\n",
        "FROM full_ratings\n",
        "WHERE rating <> 0\n",
        "GROUP BY movie_title\n",
        "ORDER BY avg_rat DESC\n",
        "LIMIT 10\n",
        "\"\"\", conn)"
      ],
      "metadata": {
        "colab": {
          "base_uri": "https://localhost:8080/",
          "height": 363
        },
        "id": "SJOIT1be7ime",
        "outputId": "059fec1a-c3a7-4aed-9092-1d50cd21d578"
      },
      "execution_count": 51,
      "outputs": [
        {
          "output_type": "execute_result",
          "data": {
            "text/plain": [
              "                                         movie_title   avg_rat  read_num\n",
              "0                   Shawshank Redemption, The (1994)  4.442922       219\n",
              "1                              Godfather, The (1972)  4.290850       153\n",
              "2                              Cool Hand Luke (1967)  4.290698        43\n",
              "3                                   Chinatown (1974)  4.255102        49\n",
              "4                                 Rear Window (1954)  4.253623        69\n",
              "5                         Princess Bride, The (1987)  4.247863       117\n",
              "6                            Schindler's List (1993)  4.246835       158\n",
              "7                                  Goodfellas (1990)  4.245192       104\n",
              "8  Dr. Strangelove or: How I Learned to Stop Worr...  4.243902        82\n",
              "9                          American History X (1998)  4.237113        97"
            ],
            "text/html": [
              "\n",
              "  <div id=\"df-dd696669-a128-49a0-ab17-1e8005a3392e\" class=\"colab-df-container\">\n",
              "    <div>\n",
              "<style scoped>\n",
              "    .dataframe tbody tr th:only-of-type {\n",
              "        vertical-align: middle;\n",
              "    }\n",
              "\n",
              "    .dataframe tbody tr th {\n",
              "        vertical-align: top;\n",
              "    }\n",
              "\n",
              "    .dataframe thead th {\n",
              "        text-align: right;\n",
              "    }\n",
              "</style>\n",
              "<table border=\"1\" class=\"dataframe\">\n",
              "  <thead>\n",
              "    <tr style=\"text-align: right;\">\n",
              "      <th></th>\n",
              "      <th>movie_title</th>\n",
              "      <th>avg_rat</th>\n",
              "      <th>read_num</th>\n",
              "    </tr>\n",
              "  </thead>\n",
              "  <tbody>\n",
              "    <tr>\n",
              "      <th>0</th>\n",
              "      <td>Shawshank Redemption, The (1994)</td>\n",
              "      <td>4.442922</td>\n",
              "      <td>219</td>\n",
              "    </tr>\n",
              "    <tr>\n",
              "      <th>1</th>\n",
              "      <td>Godfather, The (1972)</td>\n",
              "      <td>4.290850</td>\n",
              "      <td>153</td>\n",
              "    </tr>\n",
              "    <tr>\n",
              "      <th>2</th>\n",
              "      <td>Cool Hand Luke (1967)</td>\n",
              "      <td>4.290698</td>\n",
              "      <td>43</td>\n",
              "    </tr>\n",
              "    <tr>\n",
              "      <th>3</th>\n",
              "      <td>Chinatown (1974)</td>\n",
              "      <td>4.255102</td>\n",
              "      <td>49</td>\n",
              "    </tr>\n",
              "    <tr>\n",
              "      <th>4</th>\n",
              "      <td>Rear Window (1954)</td>\n",
              "      <td>4.253623</td>\n",
              "      <td>69</td>\n",
              "    </tr>\n",
              "    <tr>\n",
              "      <th>5</th>\n",
              "      <td>Princess Bride, The (1987)</td>\n",
              "      <td>4.247863</td>\n",
              "      <td>117</td>\n",
              "    </tr>\n",
              "    <tr>\n",
              "      <th>6</th>\n",
              "      <td>Schindler's List (1993)</td>\n",
              "      <td>4.246835</td>\n",
              "      <td>158</td>\n",
              "    </tr>\n",
              "    <tr>\n",
              "      <th>7</th>\n",
              "      <td>Goodfellas (1990)</td>\n",
              "      <td>4.245192</td>\n",
              "      <td>104</td>\n",
              "    </tr>\n",
              "    <tr>\n",
              "      <th>8</th>\n",
              "      <td>Dr. Strangelove or: How I Learned to Stop Worr...</td>\n",
              "      <td>4.243902</td>\n",
              "      <td>82</td>\n",
              "    </tr>\n",
              "    <tr>\n",
              "      <th>9</th>\n",
              "      <td>American History X (1998)</td>\n",
              "      <td>4.237113</td>\n",
              "      <td>97</td>\n",
              "    </tr>\n",
              "  </tbody>\n",
              "</table>\n",
              "</div>\n",
              "    <div class=\"colab-df-buttons\">\n",
              "\n",
              "  <div class=\"colab-df-container\">\n",
              "    <button class=\"colab-df-convert\" onclick=\"convertToInteractive('df-dd696669-a128-49a0-ab17-1e8005a3392e')\"\n",
              "            title=\"Convert this dataframe to an interactive table.\"\n",
              "            style=\"display:none;\">\n",
              "\n",
              "  <svg xmlns=\"http://www.w3.org/2000/svg\" height=\"24px\" viewBox=\"0 -960 960 960\">\n",
              "    <path d=\"M120-120v-720h720v720H120Zm60-500h600v-160H180v160Zm220 220h160v-160H400v160Zm0 220h160v-160H400v160ZM180-400h160v-160H180v160Zm440 0h160v-160H620v160ZM180-180h160v-160H180v160Zm440 0h160v-160H620v160Z\"/>\n",
              "  </svg>\n",
              "    </button>\n",
              "\n",
              "  <style>\n",
              "    .colab-df-container {\n",
              "      display:flex;\n",
              "      gap: 12px;\n",
              "    }\n",
              "\n",
              "    .colab-df-convert {\n",
              "      background-color: #E8F0FE;\n",
              "      border: none;\n",
              "      border-radius: 50%;\n",
              "      cursor: pointer;\n",
              "      display: none;\n",
              "      fill: #1967D2;\n",
              "      height: 32px;\n",
              "      padding: 0 0 0 0;\n",
              "      width: 32px;\n",
              "    }\n",
              "\n",
              "    .colab-df-convert:hover {\n",
              "      background-color: #E2EBFA;\n",
              "      box-shadow: 0px 1px 2px rgba(60, 64, 67, 0.3), 0px 1px 3px 1px rgba(60, 64, 67, 0.15);\n",
              "      fill: #174EA6;\n",
              "    }\n",
              "\n",
              "    .colab-df-buttons div {\n",
              "      margin-bottom: 4px;\n",
              "    }\n",
              "\n",
              "    [theme=dark] .colab-df-convert {\n",
              "      background-color: #3B4455;\n",
              "      fill: #D2E3FC;\n",
              "    }\n",
              "\n",
              "    [theme=dark] .colab-df-convert:hover {\n",
              "      background-color: #434B5C;\n",
              "      box-shadow: 0px 1px 3px 1px rgba(0, 0, 0, 0.15);\n",
              "      filter: drop-shadow(0px 1px 2px rgba(0, 0, 0, 0.3));\n",
              "      fill: #FFFFFF;\n",
              "    }\n",
              "  </style>\n",
              "\n",
              "    <script>\n",
              "      const buttonEl =\n",
              "        document.querySelector('#df-dd696669-a128-49a0-ab17-1e8005a3392e button.colab-df-convert');\n",
              "      buttonEl.style.display =\n",
              "        google.colab.kernel.accessAllowed ? 'block' : 'none';\n",
              "\n",
              "      async function convertToInteractive(key) {\n",
              "        const element = document.querySelector('#df-dd696669-a128-49a0-ab17-1e8005a3392e');\n",
              "        const dataTable =\n",
              "          await google.colab.kernel.invokeFunction('convertToInteractive',\n",
              "                                                    [key], {});\n",
              "        if (!dataTable) return;\n",
              "\n",
              "        const docLinkHtml = 'Like what you see? Visit the ' +\n",
              "          '<a target=\"_blank\" href=https://colab.research.google.com/notebooks/data_table.ipynb>data table notebook</a>'\n",
              "          + ' to learn more about interactive tables.';\n",
              "        element.innerHTML = '';\n",
              "        dataTable['output_type'] = 'display_data';\n",
              "        await google.colab.output.renderOutput(dataTable, element);\n",
              "        const docLink = document.createElement('div');\n",
              "        docLink.innerHTML = docLinkHtml;\n",
              "        element.appendChild(docLink);\n",
              "      }\n",
              "    </script>\n",
              "  </div>\n",
              "\n",
              "\n",
              "<div id=\"df-d11056d2-4bb1-46c0-b961-d03e2b33fed5\">\n",
              "  <button class=\"colab-df-quickchart\" onclick=\"quickchart('df-d11056d2-4bb1-46c0-b961-d03e2b33fed5')\"\n",
              "            title=\"Suggest charts\"\n",
              "            style=\"display:none;\">\n",
              "\n",
              "<svg xmlns=\"http://www.w3.org/2000/svg\" height=\"24px\"viewBox=\"0 0 24 24\"\n",
              "     width=\"24px\">\n",
              "    <g>\n",
              "        <path d=\"M19 3H5c-1.1 0-2 .9-2 2v14c0 1.1.9 2 2 2h14c1.1 0 2-.9 2-2V5c0-1.1-.9-2-2-2zM9 17H7v-7h2v7zm4 0h-2V7h2v10zm4 0h-2v-4h2v4z\"/>\n",
              "    </g>\n",
              "</svg>\n",
              "  </button>\n",
              "\n",
              "<style>\n",
              "  .colab-df-quickchart {\n",
              "      --bg-color: #E8F0FE;\n",
              "      --fill-color: #1967D2;\n",
              "      --hover-bg-color: #E2EBFA;\n",
              "      --hover-fill-color: #174EA6;\n",
              "      --disabled-fill-color: #AAA;\n",
              "      --disabled-bg-color: #DDD;\n",
              "  }\n",
              "\n",
              "  [theme=dark] .colab-df-quickchart {\n",
              "      --bg-color: #3B4455;\n",
              "      --fill-color: #D2E3FC;\n",
              "      --hover-bg-color: #434B5C;\n",
              "      --hover-fill-color: #FFFFFF;\n",
              "      --disabled-bg-color: #3B4455;\n",
              "      --disabled-fill-color: #666;\n",
              "  }\n",
              "\n",
              "  .colab-df-quickchart {\n",
              "    background-color: var(--bg-color);\n",
              "    border: none;\n",
              "    border-radius: 50%;\n",
              "    cursor: pointer;\n",
              "    display: none;\n",
              "    fill: var(--fill-color);\n",
              "    height: 32px;\n",
              "    padding: 0;\n",
              "    width: 32px;\n",
              "  }\n",
              "\n",
              "  .colab-df-quickchart:hover {\n",
              "    background-color: var(--hover-bg-color);\n",
              "    box-shadow: 0 1px 2px rgba(60, 64, 67, 0.3), 0 1px 3px 1px rgba(60, 64, 67, 0.15);\n",
              "    fill: var(--button-hover-fill-color);\n",
              "  }\n",
              "\n",
              "  .colab-df-quickchart-complete:disabled,\n",
              "  .colab-df-quickchart-complete:disabled:hover {\n",
              "    background-color: var(--disabled-bg-color);\n",
              "    fill: var(--disabled-fill-color);\n",
              "    box-shadow: none;\n",
              "  }\n",
              "\n",
              "  .colab-df-spinner {\n",
              "    border: 2px solid var(--fill-color);\n",
              "    border-color: transparent;\n",
              "    border-bottom-color: var(--fill-color);\n",
              "    animation:\n",
              "      spin 1s steps(1) infinite;\n",
              "  }\n",
              "\n",
              "  @keyframes spin {\n",
              "    0% {\n",
              "      border-color: transparent;\n",
              "      border-bottom-color: var(--fill-color);\n",
              "      border-left-color: var(--fill-color);\n",
              "    }\n",
              "    20% {\n",
              "      border-color: transparent;\n",
              "      border-left-color: var(--fill-color);\n",
              "      border-top-color: var(--fill-color);\n",
              "    }\n",
              "    30% {\n",
              "      border-color: transparent;\n",
              "      border-left-color: var(--fill-color);\n",
              "      border-top-color: var(--fill-color);\n",
              "      border-right-color: var(--fill-color);\n",
              "    }\n",
              "    40% {\n",
              "      border-color: transparent;\n",
              "      border-right-color: var(--fill-color);\n",
              "      border-top-color: var(--fill-color);\n",
              "    }\n",
              "    60% {\n",
              "      border-color: transparent;\n",
              "      border-right-color: var(--fill-color);\n",
              "    }\n",
              "    80% {\n",
              "      border-color: transparent;\n",
              "      border-right-color: var(--fill-color);\n",
              "      border-bottom-color: var(--fill-color);\n",
              "    }\n",
              "    90% {\n",
              "      border-color: transparent;\n",
              "      border-bottom-color: var(--fill-color);\n",
              "    }\n",
              "  }\n",
              "</style>\n",
              "\n",
              "  <script>\n",
              "    async function quickchart(key) {\n",
              "      const quickchartButtonEl =\n",
              "        document.querySelector('#' + key + ' button');\n",
              "      quickchartButtonEl.disabled = true;  // To prevent multiple clicks.\n",
              "      quickchartButtonEl.classList.add('colab-df-spinner');\n",
              "      try {\n",
              "        const charts = await google.colab.kernel.invokeFunction(\n",
              "            'suggestCharts', [key], {});\n",
              "      } catch (error) {\n",
              "        console.error('Error during call to suggestCharts:', error);\n",
              "      }\n",
              "      quickchartButtonEl.classList.remove('colab-df-spinner');\n",
              "      quickchartButtonEl.classList.add('colab-df-quickchart-complete');\n",
              "    }\n",
              "    (() => {\n",
              "      let quickchartButtonEl =\n",
              "        document.querySelector('#df-d11056d2-4bb1-46c0-b961-d03e2b33fed5 button');\n",
              "      quickchartButtonEl.style.display =\n",
              "        google.colab.kernel.accessAllowed ? 'block' : 'none';\n",
              "    })();\n",
              "  </script>\n",
              "</div>\n",
              "    </div>\n",
              "  </div>\n"
            ],
            "application/vnd.google.colaboratory.intrinsic+json": {
              "type": "dataframe",
              "summary": "{\n  \"name\": \"\\\"\\\"\\\", conn)\",\n  \"rows\": 10,\n  \"fields\": [\n    {\n      \"column\": \"movie_title\",\n      \"properties\": {\n        \"dtype\": \"string\",\n        \"num_unique_values\": 10,\n        \"samples\": [\n          \"Dr. Strangelove or: How I Learned to Stop Worrying and Love the Bomb (1964)\",\n          \"Godfather, The (1972)\",\n          \"Princess Bride, The (1987)\"\n        ],\n        \"semantic_type\": \"\",\n        \"description\": \"\"\n      }\n    },\n    {\n      \"column\": \"avg_rat\",\n      \"properties\": {\n        \"dtype\": \"number\",\n        \"std\": 0.061794789468858816,\n        \"min\": 4.237113402061856,\n        \"max\": 4.442922374429224,\n        \"num_unique_values\": 10,\n        \"samples\": [\n          4.2439024390243905,\n          4.290849673202614,\n          4.247863247863248\n        ],\n        \"semantic_type\": \"\",\n        \"description\": \"\"\n      }\n    },\n    {\n      \"column\": \"read_num\",\n      \"properties\": {\n        \"dtype\": \"number\",\n        \"std\": 54,\n        \"min\": 43,\n        \"max\": 219,\n        \"num_unique_values\": 10,\n        \"samples\": [\n          82,\n          153,\n          117\n        ],\n        \"semantic_type\": \"\",\n        \"description\": \"\"\n      }\n    }\n  ]\n}"
            }
          },
          "metadata": {},
          "execution_count": 51
        }
      ]
    },
    {
      "cell_type": "markdown",
      "source": [
        "La película \"Shawshank Redemption, The (1994)\" tiene el mejor promedio de calificación (4,44) y un total de 219 calificaciones recibidas."
      ],
      "metadata": {
        "id": "zQTACaWt77lK"
      }
    },
    {
      "cell_type": "code",
      "source": [
        "# Películas más vistas con promedio de las calificaciones y cantidad de calificaciones\n",
        "\n",
        "query = \"\"\"\n",
        "SELECT movie_title,\n",
        "       AVG(CASE WHEN rating = 0 THEN NULL ELSE rating END) AS avg_rat,\n",
        "       COUNT(*) AS read_num\n",
        "FROM full_ratings\n",
        "GROUP BY movie_title\n",
        "ORDER BY read_num DESC\n",
        "\"\"\"\n",
        "\n",
        "result = pd.read_sql(query, conn)\n",
        "\n",
        "# Mostrar las primeras 10 filas del resultado\n",
        "print(result.head(10))"
      ],
      "metadata": {
        "colab": {
          "base_uri": "https://localhost:8080/"
        },
        "id": "J2PgNxIT8JyH",
        "outputId": "586e345b-cdfe-4ccc-c783-d6186cfbebc4"
      },
      "execution_count": 52,
      "outputs": [
        {
          "output_type": "stream",
          "name": "stdout",
          "text": [
            "                                         movie_title   avg_rat  read_num\n",
            "0                                Forrest Gump (1994)  4.127530       247\n",
            "1                                Pulp Fiction (1994)  4.189956       229\n",
            "2                   Shawshank Redemption, The (1994)  4.442922       219\n",
            "3                                 Matrix, The (1999)  4.123256       215\n",
            "4                   Silence of the Lambs, The (1991)  4.152913       206\n",
            "5          Star Wars: Episode IV - A New Hope (1977)  4.178571       196\n",
            "6                               Jurassic Park (1993)  3.781081       185\n",
            "7  Star Wars: Episode V - The Empire Strikes Back...  4.183140       172\n",
            "8                                  Fight Club (1999)  4.225146       171\n",
            "9                  Terminator 2: Judgment Day (1991)  3.991176       170\n"
          ]
        }
      ]
    },
    {
      "cell_type": "markdown",
      "source": [
        "Forrest Gump (1994)  es la película más vista, o al menos la más veces calificada, sin embargo su promedio de calificación no estuvo en el top 10 de la consulta anterior, su promedio es de 4.12 con 247 calificaciones."
      ],
      "metadata": {
        "id": "a6Lrcvjx-Y3P"
      }
    },
    {
      "cell_type": "code",
      "source": [
        "#### Las películas mejores calificadas por año de lanzamiento ###\n",
        "\n",
        "#Primero, vamos a extraer el año de lanzamiento, el cual está incluido en el título de película\n",
        "#Agregar una nueva columna para almacenar el año\n",
        "\n",
        "conn = sqlite3.connect('db_moviesF')\n",
        "cursor = conn.cursor()\n",
        "\n",
        "# Agregar una nueva columna para almacenar el año\n",
        "cursor.execute(\"ALTER TABLE full_ratings ADD COLUMN release_year INTEGER\")\n",
        "\n",
        "# Actualizar la nueva columna con el año extraído del título de la película\n",
        "cursor.execute(\"\"\"\n",
        "    UPDATE full_ratings\n",
        "    SET release_year = CAST(SUBSTR(movie_title, -5, 4) AS INTEGER)\n",
        "\"\"\")\n",
        "\n",
        "# Confirmar los cambios y cerrar la conexión\n",
        "conn.commit()\n",
        "conn.close()\n"
      ],
      "metadata": {
        "colab": {
          "base_uri": "https://localhost:8080/",
          "height": 211
        },
        "id": "YNLc6fI1-uh4",
        "outputId": "5dd29443-d5cf-4606-a4e1-d40f60b1e0a6"
      },
      "execution_count": 53,
      "outputs": [
        {
          "output_type": "error",
          "ename": "OperationalError",
          "evalue": "duplicate column name: release_year",
          "traceback": [
            "\u001b[0;31m---------------------------------------------------------------------------\u001b[0m",
            "\u001b[0;31mOperationalError\u001b[0m                          Traceback (most recent call last)",
            "\u001b[0;32m<ipython-input-53-cb52078d9a48>\u001b[0m in \u001b[0;36m<cell line: 10>\u001b[0;34m()\u001b[0m\n\u001b[1;32m      8\u001b[0m \u001b[0;34m\u001b[0m\u001b[0m\n\u001b[1;32m      9\u001b[0m \u001b[0;31m# Agregar una nueva columna para almacenar el año\u001b[0m\u001b[0;34m\u001b[0m\u001b[0;34m\u001b[0m\u001b[0m\n\u001b[0;32m---> 10\u001b[0;31m \u001b[0mcursor\u001b[0m\u001b[0;34m.\u001b[0m\u001b[0mexecute\u001b[0m\u001b[0;34m(\u001b[0m\u001b[0;34m\"ALTER TABLE full_ratings ADD COLUMN release_year INTEGER\"\u001b[0m\u001b[0;34m)\u001b[0m\u001b[0;34m\u001b[0m\u001b[0;34m\u001b[0m\u001b[0m\n\u001b[0m\u001b[1;32m     11\u001b[0m \u001b[0;34m\u001b[0m\u001b[0m\n\u001b[1;32m     12\u001b[0m \u001b[0;31m# Actualizar la nueva columna con el año extraído del título de la película\u001b[0m\u001b[0;34m\u001b[0m\u001b[0;34m\u001b[0m\u001b[0m\n",
            "\u001b[0;31mOperationalError\u001b[0m: duplicate column name: release_year"
          ]
        }
      ]
    },
    {
      "cell_type": "code",
      "source": [
        "# Consulta SQL para seleccionar las primeras filas de la tabla full_ratings\n",
        "query = \"SELECT * FROM full_ratings LIMIT 5\"\n",
        "\n",
        "# Leer los datos en un DataFrame usando pandas\n",
        "full_ratings_df = pd.read_sql(query, conn)\n",
        "\n",
        "# Mostrar el DataFrame\n",
        "print(full_ratings_df)\n",
        "\n",
        "# Cerrar la conexión\n",
        "conn.close()"
      ],
      "metadata": {
        "colab": {
          "base_uri": "https://localhost:8080/"
        },
        "id": "W4EpxlSVEDua",
        "outputId": "9d952463-a511-4ace-c571-a3c6913efb99"
      },
      "execution_count": 54,
      "outputs": [
        {
          "output_type": "stream",
          "name": "stdout",
          "text": [
            "   user_id  movie_id  rating                  movie_title  \\\n",
            "0        1         1     4.0             Toy Story (1995)   \n",
            "1        1         3     4.0      Grumpier Old Men (1995)   \n",
            "2        1         6     4.0                  Heat (1995)   \n",
            "3        1        47     5.0  Seven (a.k.a. Se7en) (1995)   \n",
            "4        1        50     5.0   Usual Suspects, The (1995)   \n",
            "\n",
            "                                        genres  release_year  \n",
            "0  Adventure|Animation|Children|Comedy|Fantasy          1995  \n",
            "1                               Comedy|Romance          1995  \n",
            "2                        Action|Crime|Thriller          1995  \n",
            "3                             Mystery|Thriller          1995  \n",
            "4                       Crime|Mystery|Thriller          1995  \n"
          ]
        }
      ]
    },
    {
      "cell_type": "code",
      "source": [
        "#Ahora si obtendremos las películas con mejor promedio de calificación y año de publicación\n",
        "conn = sqlite3.connect('db_moviesF')\n",
        "\n",
        "# Consulta SQL para obtener las películas mejor calificadas por año de lanzamiento\n",
        "query = \"\"\"\n",
        "SELECT release_year,\n",
        "       movie_title,\n",
        "       AVG(rating) AS avg_rating\n",
        "FROM full_ratings\n",
        "GROUP BY release_year, movie_title\n",
        "ORDER BY release_year DESC, avg_rating DESC\n",
        "\"\"\"\n",
        "\n",
        "# Leer los datos en un DataFrame usando pandas\n",
        "best_movies_by_year = pd.read_sql(query, conn)\n",
        "\n",
        "# Mostrar el DataFrame\n",
        "print(best_movies_by_year)\n",
        "\n",
        "# Cerrar la conexión\n",
        "conn.close()"
      ],
      "metadata": {
        "colab": {
          "base_uri": "https://localhost:8080/"
        },
        "id": "iP57vb9zGX0w",
        "outputId": "10721b4c-3ca4-4028-dcf8-d6e4249133c6"
      },
      "execution_count": 62,
      "outputs": [
        {
          "output_type": "stream",
          "name": "stdout",
          "text": [
            "     release_year                             movie_title  avg_rating\n",
            "0            2016                         Deadpool (2016)    3.710526\n",
            "1            2014          Guardians of the Galaxy (2014)    4.011364\n",
            "2            2014                     Interstellar (2014)    3.884615\n",
            "3            2014        Grand Budapest Hotel, The (2014)    3.744186\n",
            "4            2013         Wolf of Wall Street, The (2013)    3.825000\n",
            "..            ...                                     ...         ...\n",
            "431          1941                     Citizen Kane (1941)    4.035088\n",
            "432          1940                         Fantasia (1940)    3.769231\n",
            "433          1940                        Pinocchio (1940)    3.436170\n",
            "434          1939                Wizard of Oz, The (1939)    3.935897\n",
            "435          1937  Snow White and the Seven Dwarfs (1937)    3.604839\n",
            "\n",
            "[436 rows x 3 columns]\n"
          ]
        }
      ]
    },
    {
      "cell_type": "markdown",
      "source": [
        "Al ver la información por año de lanzamiento, se tiene que la película más recientemente lanzada es Deadpool en 2016, sin embargo, su promedio de calificación no está entre los más altos, siendo de 3.71. Al observar la película con año de lanzamiento más antiguo, se observa que tiene incluso menor promedio de calificación en comparación con la más reciente: Snow White and the Seven Dwarfs (1937) con 3.60."
      ],
      "metadata": {
        "id": "vW8ciyYGIsVC"
      }
    },
    {
      "cell_type": "code",
      "source": [
        "#Género con mejor promedio de calificación\n",
        "\n",
        "conn = sqlite3.connect('db_moviesF')\n",
        "\n",
        "# Ejecutar la consulta SQL\n",
        "query = \"\"\"\n",
        "        SELECT movies_final.genres, AVG(full_ratings.rating) AS avg_rating\n",
        "        FROM full_ratings\n",
        "        JOIN movies_final ON full_ratings.movie_id = movies_final.movie_id\n",
        "        GROUP BY movies_final.genres\n",
        "        ORDER BY avg_rating DESC;\n",
        "        \"\"\"\n",
        "cursor = conn.cursor()\n",
        "cursor.execute(query)\n",
        "\n",
        "result = pd.read_sql(query, conn)\n",
        "\n",
        "# Mostrar las primeras 10 filas del resultado\n",
        "print(result.head)\n",
        "\n",
        "# Cerrar la conexión\n",
        "conn.close()"
      ],
      "metadata": {
        "colab": {
          "base_uri": "https://localhost:8080/"
        },
        "id": "tcPfj788LMoF",
        "outputId": "097dcfbd-246c-4022-ae48-0deb27118e3d"
      },
      "execution_count": 75,
      "outputs": [
        {
          "output_type": "stream",
          "name": "stdout",
          "text": [
            "<bound method NDFrame.head of                                                 genres  avg_rating\n",
            "0              Action|Adventure|Comedy|Fantasy|Romance    4.247863\n",
            "1                                           Comedy|War    4.243902\n",
            "2            Action|Adventure|Mystery|Romance|Thriller    4.208333\n",
            "3                               Crime|Mystery|Thriller    4.194340\n",
            "4                             Action|Adventure|Western    4.180000\n",
            "..                                                 ...         ...\n",
            "196  Adventure|Animation|Children|Comedy|Fantasy|Sc...    2.737500\n",
            "197                       Action|Comedy|Crime|Thriller    2.726190\n",
            "198                      Comedy|Fantasy|Romance|Sci-Fi    2.704918\n",
            "199                                Action|Crime|Sci-Fi    2.568627\n",
            "200                       Action|Comedy|Sci-Fi|Western    2.166667\n",
            "\n",
            "[201 rows x 2 columns]>\n"
          ]
        }
      ]
    },
    {
      "cell_type": "markdown",
      "source": [
        "El género de película con mejor promedio de calificación es Action|Adventure|Comedy|Fantasy|Romance con 4.24, mientras que el de peor promedio de calificación es Action|Comedy|Sci-Fi|Western con 2,13."
      ],
      "metadata": {
        "id": "jy1CTDdiMo16"
      }
    },
    {
      "cell_type": "markdown",
      "source": [
        "## Sistema de recomendación basado en contenido un solo producto - Manual"
      ],
      "metadata": {
        "id": "H87Pwh4lJs-Y"
      }
    },
    {
      "cell_type": "code",
      "source": [
        "conn = sqlite3.connect('db_moviesF')\n",
        "\n",
        "# Consulta SQL para obtener todos los registros de la tabla 'full_ratings'\n",
        "query = 'SELECT * FROM full_ratings'\n",
        "\n",
        "# Leer los datos en un DataFrame usando pandas\n",
        "movies = pd.read_sql(query, conn)\n",
        "\n",
        "# Mostrar información sobre el DataFrame antes de convertir 'release_year' a entero\n",
        "movies.info()\n",
        "\n",
        "# Convertir la columna 'release_year' a tipo entero\n",
        "movies['release_year'] = movies['release_year'].astype('int')\n",
        "\n",
        "# Mostrar información sobre el DataFrame después de la conversión\n",
        "movies.info()\n",
        "\n",
        "# Cerrar la conexión\n",
        "conn.close()"
      ],
      "metadata": {
        "colab": {
          "base_uri": "https://localhost:8080/"
        },
        "id": "zhWMUhENJxRj",
        "outputId": "5355f843-658b-438d-f976-4ed4cd49a54c"
      },
      "execution_count": 63,
      "outputs": [
        {
          "output_type": "stream",
          "name": "stdout",
          "text": [
            "<class 'pandas.core.frame.DataFrame'>\n",
            "RangeIndex: 32507 entries, 0 to 32506\n",
            "Data columns (total 6 columns):\n",
            " #   Column        Non-Null Count  Dtype  \n",
            "---  ------        --------------  -----  \n",
            " 0   user_id       32507 non-null  int64  \n",
            " 1   movie_id      32507 non-null  int64  \n",
            " 2   rating        32507 non-null  float64\n",
            " 3   movie_title   32507 non-null  object \n",
            " 4   genres        32507 non-null  object \n",
            " 5   release_year  32507 non-null  int64  \n",
            "dtypes: float64(1), int64(3), object(2)\n",
            "memory usage: 1.5+ MB\n",
            "<class 'pandas.core.frame.DataFrame'>\n",
            "RangeIndex: 32507 entries, 0 to 32506\n",
            "Data columns (total 6 columns):\n",
            " #   Column        Non-Null Count  Dtype  \n",
            "---  ------        --------------  -----  \n",
            " 0   user_id       32507 non-null  int64  \n",
            " 1   movie_id      32507 non-null  int64  \n",
            " 2   rating        32507 non-null  float64\n",
            " 3   movie_title   32507 non-null  object \n",
            " 4   genres        32507 non-null  object \n",
            " 5   release_year  32507 non-null  int64  \n",
            "dtypes: float64(1), int64(3), object(2)\n",
            "memory usage: 1.5+ MB\n"
          ]
        }
      ]
    },
    {
      "cell_type": "code",
      "source": [
        "# escalar para que año esté en el mismo rango\n",
        "sc=MinMaxScaler()\n",
        "movies[[\"year_sc\"]]=sc.fit_transform(movies[['release_year']])"
      ],
      "metadata": {
        "id": "0nIIk0RBKgJ1"
      },
      "execution_count": 65,
      "outputs": []
    },
    {
      "cell_type": "code",
      "source": [
        "#### convertir a dummies\n"
      ],
      "metadata": {
        "id": "SekUEu-IKubk"
      },
      "execution_count": 68,
      "outputs": []
    }
  ]
}