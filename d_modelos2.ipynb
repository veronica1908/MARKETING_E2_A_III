{
  "cells": [
    {
      "cell_type": "markdown",
      "metadata": {
        "id": "pNJXWkCv8RRk"
      },
      "source": [
        "#Librerías y paquetes"
      ]
    },
    {
      "cell_type": "code",
      "execution_count": 1,
      "metadata": {
        "colab": {
          "base_uri": "https://localhost:8080/"
        },
        "id": "tEicysL-8VBs",
        "outputId": "4a9d7e1a-5910-46fb-f5e8-ed7200d88b0b"
      },
      "outputs": [
        {
          "output_type": "stream",
          "name": "stdout",
          "text": [
            "Collecting scikit-surprise\n",
            "  Downloading scikit-surprise-1.1.3.tar.gz (771 kB)\n",
            "\u001b[2K     \u001b[90m━━━━━━━━━━━━━━━━━━━━━━━━━━━━━━━━━━━━━━━━\u001b[0m \u001b[32m772.0/772.0 kB\u001b[0m \u001b[31m10.5 MB/s\u001b[0m eta \u001b[36m0:00:00\u001b[0m\n",
            "\u001b[?25h  Preparing metadata (setup.py) ... \u001b[?25l\u001b[?25hdone\n",
            "Requirement already satisfied: joblib>=1.0.0 in /usr/local/lib/python3.10/dist-packages (from scikit-surprise) (1.3.2)\n",
            "Requirement already satisfied: numpy>=1.17.3 in /usr/local/lib/python3.10/dist-packages (from scikit-surprise) (1.25.2)\n",
            "Requirement already satisfied: scipy>=1.3.2 in /usr/local/lib/python3.10/dist-packages (from scikit-surprise) (1.11.4)\n",
            "Building wheels for collected packages: scikit-surprise\n",
            "  Building wheel for scikit-surprise (setup.py) ... \u001b[?25l\u001b[?25hdone\n",
            "  Created wheel for scikit-surprise: filename=scikit_surprise-1.1.3-cp310-cp310-linux_x86_64.whl size=3162975 sha256=84541cb1fe4bff8b457e21afac5dca734d3ba6a1371a58aab8e5fee44fabf2ad\n",
            "  Stored in directory: /root/.cache/pip/wheels/a5/ca/a8/4e28def53797fdc4363ca4af740db15a9c2f1595ebc51fb445\n",
            "Successfully built scikit-surprise\n",
            "Installing collected packages: scikit-surprise\n",
            "Successfully installed scikit-surprise-1.1.3\n"
          ]
        }
      ],
      "source": [
        "!pip install scikit-surprise"
      ]
    },
    {
      "cell_type": "code",
      "execution_count": 2,
      "metadata": {
        "id": "ChKXfIeGAIau"
      },
      "outputs": [],
      "source": [
        "import numpy as np\n",
        "import pandas as pd\n",
        "import sqlite3\n",
        "\n",
        "from sklearn.preprocessing import MinMaxScaler\n",
        "from sklearn.preprocessing import StandardScaler\n",
        "from ipywidgets import interact ## para análisis interactivo\n",
        "from sklearn import neighbors ### basado en contenido un solo producto consumido\n",
        "import joblib\n",
        "####Paquete para sistemas de recomendación surprise\n",
        "###Puede generar problemas en instalación local de pyhton. Genera error instalando con pip\n",
        "#### probar que les funcione para la próxima clase\n",
        "\n",
        "from surprise import Reader, Dataset\n",
        "from surprise.model_selection import cross_validate, GridSearchCV\n",
        "from surprise import KNNBasic, KNNWithMeans, KNNWithZScore, KNNBaseline\n",
        "from surprise.model_selection import train_test_split"
      ]
    },
    {
      "cell_type": "code",
      "execution_count": 3,
      "metadata": {
        "id": "MpFJPxrW_0k2"
      },
      "outputs": [],
      "source": [
        "# Conectarse a la base de datos\n",
        "conn = sqlite3.connect('db_moviesF')\n",
        "cur=conn.cursor()\n",
        "\n",
        "#Verificar tablas creadas en el script\n",
        "# Conectarse a la base de datos\n",
        "conn = sqlite3.connect('db_moviesF')\n",
        "\n",
        "# Crear un cursor\n",
        "cursor = conn.cursor()\n",
        "\n",
        "# Obtener una lista de tablas en la base de datos\n",
        "cursor.execute(\"SELECT name FROM sqlite_master WHERE type='table';\")\n",
        "tables = cur.fetchall()\n",
        "\n",
        "# Imprimir los nombres de las tablas para verificar la información\n",
        "for table in tables:\n",
        "    print(table[0])"
      ]
    },
    {
      "cell_type": "code",
      "execution_count": 4,
      "metadata": {
        "id": "wcKtVF7F4PUh"
      },
      "outputs": [],
      "source": [
        "# Verificar las columnas de la tabla ratings_final\n",
        "cursor.execute(\"PRAGMA table_info(ratings_final)\")\n",
        "\n",
        "columns_ratings_final = cursor.fetchall()\n",
        "\n",
        "# Imprimir el nombre de la columna y su tipo de datos\n",
        "for column in columns_ratings_final:\n",
        "    print(column[1], \"-\", column[2])\n"
      ]
    },
    {
      "cell_type": "code",
      "execution_count": 5,
      "metadata": {
        "id": "Seg07vGbWs_H"
      },
      "outputs": [],
      "source": [
        "# Verificar las columnas de la tabla ratings\n",
        "cursor.execute(\"PRAGMA table_info(ratings)\")\n",
        "\n",
        "columns_ratings = cursor.fetchall()\n",
        "\n",
        "# Imprimir el nombre de la columna y su tipo de datos\n",
        "for column in columns_ratings:\n",
        "    print(column[1], \"-\", column[2])\n"
      ]
    },
    {
      "cell_type": "code",
      "execution_count": 6,
      "metadata": {
        "id": "QY_yoX9D44XB"
      },
      "outputs": [],
      "source": [
        "# Verificar las columnas de la tabla movies\n",
        "cursor.execute(\"PRAGMA table_info(movies)\")\n",
        "\n",
        "columns_movies = cursor.fetchall()\n",
        "\n",
        "# Imprimir el nombre de la columna y su tipo de datos\n",
        "for column in columns_movies:\n",
        "    print(column[1], \"-\", column[2])\n"
      ]
    },
    {
      "cell_type": "markdown",
      "metadata": {
        "id": "HgqxBxNrtCpM"
      },
      "source": [
        "#Sistema de recomendación basado en contenido KNN"
      ]
    },
    {
      "cell_type": "markdown",
      "metadata": {
        "id": "THFuLo2Jtfgo"
      },
      "source": [
        "##Con base en todo lo visto por el usuario"
      ]
    },
    {
      "cell_type": "code",
      "execution_count": 7,
      "metadata": {
        "id": "ajpdg1H0tuUS",
        "outputId": "70f60eeb-02a3-48e8-fc00-21426790478f",
        "colab": {
          "base_uri": "https://localhost:8080/",
          "height": 280
        }
      },
      "outputs": [
        {
          "output_type": "error",
          "ename": "FileNotFoundError",
          "evalue": "[Errno 2] No such file or directory: 'salidas_bmovies_dum2.joblib'",
          "traceback": [
            "\u001b[0;31m---------------------------------------------------------------------------\u001b[0m",
            "\u001b[0;31mFileNotFoundError\u001b[0m                         Traceback (most recent call last)",
            "\u001b[0;32m<ipython-input-7-b35ff6413b45>\u001b[0m in \u001b[0;36m<cell line: 2>\u001b[0;34m()\u001b[0m\n\u001b[1;32m      1\u001b[0m \u001b[0;31m##### cargar dataframe escalado y con dummies ###\u001b[0m\u001b[0;34m\u001b[0m\u001b[0;34m\u001b[0m\u001b[0m\n\u001b[0;32m----> 2\u001b[0;31m \u001b[0mmovies_dum2\u001b[0m\u001b[0;34m=\u001b[0m \u001b[0mjoblib\u001b[0m\u001b[0;34m.\u001b[0m\u001b[0mload\u001b[0m\u001b[0;34m(\u001b[0m\u001b[0;34m'salidas_bmovies_dum2.joblib'\u001b[0m\u001b[0;34m)\u001b[0m\u001b[0;34m\u001b[0m\u001b[0;34m\u001b[0m\u001b[0m\n\u001b[0m",
            "\u001b[0;32m/usr/local/lib/python3.10/dist-packages/joblib/numpy_pickle.py\u001b[0m in \u001b[0;36mload\u001b[0;34m(filename, mmap_mode)\u001b[0m\n\u001b[1;32m    648\u001b[0m             \u001b[0mobj\u001b[0m \u001b[0;34m=\u001b[0m \u001b[0m_unpickle\u001b[0m\u001b[0;34m(\u001b[0m\u001b[0mfobj\u001b[0m\u001b[0;34m)\u001b[0m\u001b[0;34m\u001b[0m\u001b[0;34m\u001b[0m\u001b[0m\n\u001b[1;32m    649\u001b[0m     \u001b[0;32melse\u001b[0m\u001b[0;34m:\u001b[0m\u001b[0;34m\u001b[0m\u001b[0;34m\u001b[0m\u001b[0m\n\u001b[0;32m--> 650\u001b[0;31m         \u001b[0;32mwith\u001b[0m \u001b[0mopen\u001b[0m\u001b[0;34m(\u001b[0m\u001b[0mfilename\u001b[0m\u001b[0;34m,\u001b[0m \u001b[0;34m'rb'\u001b[0m\u001b[0;34m)\u001b[0m \u001b[0;32mas\u001b[0m \u001b[0mf\u001b[0m\u001b[0;34m:\u001b[0m\u001b[0;34m\u001b[0m\u001b[0;34m\u001b[0m\u001b[0m\n\u001b[0m\u001b[1;32m    651\u001b[0m             \u001b[0;32mwith\u001b[0m \u001b[0m_read_fileobject\u001b[0m\u001b[0;34m(\u001b[0m\u001b[0mf\u001b[0m\u001b[0;34m,\u001b[0m \u001b[0mfilename\u001b[0m\u001b[0;34m,\u001b[0m \u001b[0mmmap_mode\u001b[0m\u001b[0;34m)\u001b[0m \u001b[0;32mas\u001b[0m \u001b[0mfobj\u001b[0m\u001b[0;34m:\u001b[0m\u001b[0;34m\u001b[0m\u001b[0;34m\u001b[0m\u001b[0m\n\u001b[1;32m    652\u001b[0m                 \u001b[0;32mif\u001b[0m \u001b[0misinstance\u001b[0m\u001b[0;34m(\u001b[0m\u001b[0mfobj\u001b[0m\u001b[0;34m,\u001b[0m \u001b[0mstr\u001b[0m\u001b[0;34m)\u001b[0m\u001b[0;34m:\u001b[0m\u001b[0;34m\u001b[0m\u001b[0;34m\u001b[0m\u001b[0m\n",
            "\u001b[0;31mFileNotFoundError\u001b[0m: [Errno 2] No such file or directory: 'salidas_bmovies_dum2.joblib'"
          ]
        }
      ],
      "source": [
        "##### cargar dataframe escalado y con dummies ###\n",
        "movies_dum2= joblib.load('salidas_bmovies_dum2.joblib')"
      ]
    },
    {
      "cell_type": "code",
      "execution_count": null,
      "metadata": {
        "colab": {
          "base_uri": "https://localhost:8080/"
        },
        "id": "O9Kw-4I3t-TS",
        "outputId": "d42c3c07-366a-41d8-f794-1824e55833c8"
      },
      "outputs": [
        {
          "name": "stdout",
          "output_type": "stream",
          "text": [
            "     user_id\n",
            "0          1\n",
            "1          4\n",
            "2          6\n",
            "3          7\n",
            "4         10\n",
            "..       ...\n",
            "361      603\n",
            "362      604\n",
            "363      605\n",
            "364      607\n",
            "365      608\n",
            "\n",
            "[366 rows x 1 columns]\n"
          ]
        }
      ],
      "source": [
        "#### seleccionar usuario para recomendaciones ####\n",
        "usuarios=pd.read_sql('select distinct (user_id) as user_id from ratings_final',conn)\n",
        "print (usuarios)\n",
        "user_id=1 ### para ejemplo manual"
      ]
    },
    {
      "cell_type": "code",
      "execution_count": null,
      "metadata": {
        "id": "02LNMwtYuL5v"
      },
      "outputs": [],
      "source": [
        "def recomendar(user_id=list(usuarios['user_id'].value_counts().index)):\n",
        "\n",
        "    ###seleccionar solo los ratings del usuario seleccionado\n",
        "    ratings=pd.read_sql('select *from ratings_final where user_id=:user',conn, params={'user':user_id,})\n",
        "\n",
        "    ###convertir ratings del usuario a array\n",
        "    l_movies_w=ratings['movie_id'].to_numpy()"
      ]
    },
    {
      "cell_type": "code",
      "execution_count": null,
      "metadata": {
        "id": "acRGt_DzVX8D"
      },
      "outputs": [],
      "source": [
        "# Cargar los datos de la tabla 'ratings' en un DataFrame\n",
        "ratings = pd.read_sql('SELECT * FROM ratings', conn)\n",
        "\n",
        "cursor.execute(\"DROP TABLE IF EXISTS l_movies_w\")\n",
        "\n",
        "# crear la tabla l_movies_w en la base de datos\n",
        "consulta_sql = \"\"\"\n",
        "CREATE TABLE l_movies_w AS\n",
        "SELECT movieId AS movie_id FROM ratings;\n",
        "\"\"\"\n",
        "\n",
        "cursor.execute(consulta_sql)\n",
        "\n",
        "# Leer los datos de la tabla l_movies_r en un DataFrame de Pandas\n",
        "l_movies_w = pd.read_sql('SELECT * FROM l_movies_w', conn)\n"
      ]
    },
    {
      "cell_type": "code",
      "execution_count": null,
      "metadata": {
        "colab": {
          "base_uri": "https://localhost:8080/"
        },
        "id": "tXoZdq-sRRwO",
        "outputId": "ab24a92f-3bc5-4edc-d36a-aa8ebe3a44a2"
      },
      "outputs": [
        {
          "name": "stdout",
          "output_type": "stream",
          "text": [
            "       year_sc  genres_(no genres listed)  genres_Action  \\\n",
            "0     0.988603                          0              0   \n",
            "1     0.988603                          0              0   \n",
            "2     0.988603                          0              0   \n",
            "3     0.988603                          0              0   \n",
            "4     0.988603                          0              0   \n",
            "...        ...                        ...            ...   \n",
            "9737  0.999504                          0              0   \n",
            "9738  0.999504                          0              0   \n",
            "9739  0.999504                          0              0   \n",
            "9740  1.000000                          0              0   \n",
            "9741  0.986620                          0              0   \n",
            "\n",
            "      genres_Action|Adventure  genres_Action|Adventure|Animation  \\\n",
            "0                           0                                  0   \n",
            "1                           0                                  0   \n",
            "2                           0                                  0   \n",
            "3                           0                                  0   \n",
            "4                           0                                  0   \n",
            "...                       ...                                ...   \n",
            "9737                        0                                  0   \n",
            "9738                        0                                  0   \n",
            "9739                        0                                  0   \n",
            "9740                        0                                  0   \n",
            "9741                        0                                  0   \n",
            "\n",
            "      genres_Action|Adventure|Animation|Children  \\\n",
            "0                                              0   \n",
            "1                                              0   \n",
            "2                                              0   \n",
            "3                                              0   \n",
            "4                                              0   \n",
            "...                                          ...   \n",
            "9737                                           0   \n",
            "9738                                           0   \n",
            "9739                                           0   \n",
            "9740                                           0   \n",
            "9741                                           0   \n",
            "\n",
            "      genres_Action|Adventure|Animation|Children|Comedy  \\\n",
            "0                                                     0   \n",
            "1                                                     0   \n",
            "2                                                     0   \n",
            "3                                                     0   \n",
            "4                                                     0   \n",
            "...                                                 ...   \n",
            "9737                                                  0   \n",
            "9738                                                  0   \n",
            "9739                                                  0   \n",
            "9740                                                  0   \n",
            "9741                                                  0   \n",
            "\n",
            "      genres_Action|Adventure|Animation|Children|Comedy|Fantasy  \\\n",
            "0                                                     0           \n",
            "1                                                     0           \n",
            "2                                                     0           \n",
            "3                                                     0           \n",
            "4                                                     0           \n",
            "...                                                 ...           \n",
            "9737                                                  0           \n",
            "9738                                                  0           \n",
            "9739                                                  0           \n",
            "9740                                                  0           \n",
            "9741                                                  0           \n",
            "\n",
            "      genres_Action|Adventure|Animation|Children|Comedy|IMAX  \\\n",
            "0                                                     0        \n",
            "1                                                     0        \n",
            "2                                                     0        \n",
            "3                                                     0        \n",
            "4                                                     0        \n",
            "...                                                 ...        \n",
            "9737                                                  0        \n",
            "9738                                                  0        \n",
            "9739                                                  0        \n",
            "9740                                                  0        \n",
            "9741                                                  0        \n",
            "\n",
            "      genres_Action|Adventure|Animation|Children|Comedy|Romance  ...  \\\n",
            "0                                                     0          ...   \n",
            "1                                                     0          ...   \n",
            "2                                                     0          ...   \n",
            "3                                                     0          ...   \n",
            "4                                                     0          ...   \n",
            "...                                                 ...          ...   \n",
            "9737                                                  0          ...   \n",
            "9738                                                  0          ...   \n",
            "9739                                                  0          ...   \n",
            "9740                                                  0          ...   \n",
            "9741                                                  0          ...   \n",
            "\n",
            "      genres_Romance|Western  genres_Sci-Fi  genres_Sci-Fi|IMAX  \\\n",
            "0                          0              0                   0   \n",
            "1                          0              0                   0   \n",
            "2                          0              0                   0   \n",
            "3                          0              0                   0   \n",
            "4                          0              0                   0   \n",
            "...                      ...            ...                 ...   \n",
            "9737                       0              0                   0   \n",
            "9738                       0              0                   0   \n",
            "9739                       0              0                   0   \n",
            "9740                       0              0                   0   \n",
            "9741                       0              0                   0   \n",
            "\n",
            "      genres_Sci-Fi|Thriller  genres_Sci-Fi|Thriller|IMAX  genres_Thriller  \\\n",
            "0                          0                            0                0   \n",
            "1                          0                            0                0   \n",
            "2                          0                            0                0   \n",
            "3                          0                            0                0   \n",
            "4                          0                            0                0   \n",
            "...                      ...                          ...              ...   \n",
            "9737                       0                            0                0   \n",
            "9738                       0                            0                0   \n",
            "9739                       0                            0                0   \n",
            "9740                       0                            0                0   \n",
            "9741                       0                            0                0   \n",
            "\n",
            "      genres_War  genres_Western  movie_id  \\\n",
            "0              0               0         1   \n",
            "1              0               0         2   \n",
            "2              0               0         3   \n",
            "3              0               0         4   \n",
            "4              0               0         5   \n",
            "...          ...             ...       ...   \n",
            "9737           0               0    193581   \n",
            "9738           0               0    193583   \n",
            "9739           0               0    193585   \n",
            "9740           0               0    193587   \n",
            "9741           0               0    193609   \n",
            "\n",
            "                                          title  \n",
            "0                              Toy Story (1995)  \n",
            "1                                Jumanji (1995)  \n",
            "2                       Grumpier Old Men (1995)  \n",
            "3                      Waiting to Exhale (1995)  \n",
            "4            Father of the Bride Part II (1995)  \n",
            "...                                         ...  \n",
            "9737  Black Butler: Book of the Atlantic (2017)  \n",
            "9738               No Game No Life: Zero (2017)  \n",
            "9739                               Flint (2017)  \n",
            "9740        Bungo Stray Dogs: Dead Apple (2018)  \n",
            "9741        Andrew Dice Clay: Dice Rules (1991)  \n",
            "\n",
            "[9742 rows x 954 columns]\n"
          ]
        }
      ],
      "source": [
        "# Cargar los datos de la tabla 'movies' en un DataFrame\n",
        "movies = pd.read_sql('SELECT * FROM movies', conn)\n",
        "\n",
        "# Agregar las columnas 'movieId' y 'title' al DataFrame 'movies_dum2'\n",
        "movies_dum2['movie_id'] = movies['movieId']\n",
        "movies_dum2['title'] = movies['title']\n",
        "\n",
        "print(movies_dum2)"
      ]
    },
    {
      "cell_type": "code",
      "execution_count": null,
      "metadata": {
        "colab": {
          "base_uri": "https://localhost:8080/"
        },
        "id": "k-7jyARicbJT",
        "outputId": "6920463f-a5ac-4b72-b294-a8b587daffec"
      },
      "outputs": [
        {
          "name": "stdout",
          "output_type": "stream",
          "text": [
            "Se encontraron 91112 valores duplicados en la columna 'movie_id' de l_movies_w.\n"
          ]
        }
      ],
      "source": [
        "# Verificar si hay valores duplicados en la columna 'movie_id' de la tabla l_movies_w\n",
        "duplicates_count = l_movies_w['movie_id'].duplicated().sum()\n",
        "\n",
        "if duplicates_count == 0:\n",
        "    print(\"No hay valores duplicados en la columna 'movie_id' de l_movies_w.\")\n",
        "else:\n",
        "    print(f\"Se encontraron {duplicates_count} valores duplicados en la columna 'movie_id' de l_movies_w.\")\n"
      ]
    },
    {
      "cell_type": "code",
      "execution_count": null,
      "metadata": {
        "colab": {
          "base_uri": "https://localhost:8080/"
        },
        "id": "nLsuiEoih33o",
        "outputId": "85e5bf6f-4ad4-4631-9701-ce9e2aa66081"
      },
      "outputs": [
        {
          "name": "stdout",
          "output_type": "stream",
          "text": [
            "Se eliminaron los valores duplicados con éxito.\n"
          ]
        }
      ],
      "source": [
        "# Como hay demasiados valores duplicados, se procede a eliminar valores duplicados en la columna 'movie_id' de la tabla l_movies_w\n",
        "l_movies_w = l_movies_w.drop_duplicates(subset=['movie_id'])\n",
        "\n",
        "# Verificar si hay valores duplicados después de la eliminación\n",
        "duplicates_count_after_removal = l_movies_w['movie_id'].duplicated().sum()\n",
        "\n",
        "if duplicates_count_after_removal == 0:\n",
        "    print(\"Se eliminaron los valores duplicados con éxito.\")\n",
        "else:\n",
        "    print(\"Aún quedan valores duplicados después de eliminarlos.\")"
      ]
    },
    {
      "cell_type": "code",
      "execution_count": null,
      "metadata": {
        "colab": {
          "base_uri": "https://localhost:8080/"
        },
        "id": "oDyQrlXpiO0u",
        "outputId": "2080cb51-c53c-465e-eca8-af623367a733"
      },
      "outputs": [
        {
          "name": "stdout",
          "output_type": "stream",
          "text": [
            "(9724, 1)\n"
          ]
        }
      ],
      "source": [
        "#Verificamos el tamaño del dataframe resultante y aún quedan 9724 registros\n",
        "print(l_movies_w.shape)"
      ]
    },
    {
      "cell_type": "code",
      "execution_count": null,
      "metadata": {
        "id": "yaLm7RdxfojW"
      },
      "outputs": [],
      "source": [
        "# Filtrar películas calificadas por el usuario en movies_dum2\n",
        "movies_w = movies_dum2[movies_dum2['movie_id'].isin(l_movies_w)]"
      ]
    },
    {
      "cell_type": "code",
      "execution_count": null,
      "metadata": {
        "colab": {
          "base_uri": "https://localhost:8080/"
        },
        "id": "ywOfC8PpkY0Y",
        "outputId": "c728262f-b198-441f-a3d7-f554fc6d87ba"
      },
      "outputs": [
        {
          "name": "stdout",
          "output_type": "stream",
          "text": [
            "(0, 954)\n"
          ]
        }
      ],
      "source": [
        "#Verificamos las dimensiones de movies_w\n",
        "print (movies_w.shape)\n",
        "\n",
        "#########VERIFICAR POR QUÉ NO HAY NINGUNA COINCIDENCIA, el dataframe no puede quedar vacío#############"
      ]
    },
    {
      "cell_type": "code",
      "execution_count": null,
      "metadata": {
        "id": "rbeW2tNzXGsD"
      },
      "outputs": [],
      "source": [
        "## eliminar columna nombre y movie_id\n",
        "movies_w=movies_w.drop(columns=['movie_id','title'])\n",
        "movies_w[\"indice\"]=1 ### para usar group by y que quede en formato pandas tabla de centroide\n",
        "##centroide o perfil del usuario\n",
        "centroide=movies_w.groupby(\"indice\").mean()"
      ]
    },
    {
      "cell_type": "code",
      "execution_count": null,
      "metadata": {
        "colab": {
          "base_uri": "https://localhost:8080/"
        },
        "id": "ABsX7uJDvJqe",
        "outputId": "66cd7081-53a7-4612-e4fd-b3996717b5df"
      },
      "outputs": [
        {
          "name": "stdout",
          "output_type": "stream",
          "text": [
            "Empty DataFrame\n",
            "Columns: [year_sc, genres_(no genres listed), genres_Action, genres_Action|Adventure, genres_Action|Adventure|Animation, genres_Action|Adventure|Animation|Children, genres_Action|Adventure|Animation|Children|Comedy, genres_Action|Adventure|Animation|Children|Comedy|Fantasy, genres_Action|Adventure|Animation|Children|Comedy|IMAX, genres_Action|Adventure|Animation|Children|Comedy|Romance, genres_Action|Adventure|Animation|Children|Comedy|Sci-Fi, genres_Action|Adventure|Animation|Children|Comedy|Sci-Fi|IMAX, genres_Action|Adventure|Animation|Children|Comedy|Western, genres_Action|Adventure|Animation|Children|Fantasy, genres_Action|Adventure|Animation|Children|Fantasy|Sci-Fi, genres_Action|Adventure|Animation|Children|Sci-Fi, genres_Action|Adventure|Animation|Comedy, genres_Action|Adventure|Animation|Comedy|Crime|Mystery, genres_Action|Adventure|Animation|Comedy|Fantasy|Mystery|Sci-Fi, genres_Action|Adventure|Animation|Comedy|Fantasy|Sci-Fi, genres_Action|Adventure|Animation|Comedy|Sci-Fi, genres_Action|Adventure|Animation|Comedy|Thriller, genres_Action|Adventure|Animation|Crime|Fantasy, genres_Action|Adventure|Animation|Drama, genres_Action|Adventure|Animation|Drama|Fantasy, genres_Action|Adventure|Animation|Drama|Fantasy|Sci-Fi, genres_Action|Adventure|Animation|Fantasy, genres_Action|Adventure|Animation|Fantasy|IMAX, genres_Action|Adventure|Animation|Fantasy|Sci-Fi, genres_Action|Adventure|Animation|Horror, genres_Action|Adventure|Animation|Horror|Sci-Fi, genres_Action|Adventure|Animation|Sci-Fi, genres_Action|Adventure|Animation|Sci-Fi|Thriller, genres_Action|Adventure|Children, genres_Action|Adventure|Children|Comedy, genres_Action|Adventure|Children|Comedy|Crime, genres_Action|Adventure|Children|Comedy|Fantasy, genres_Action|Adventure|Children|Comedy|Fantasy|Sci-Fi, genres_Action|Adventure|Children|Comedy|Mystery, genres_Action|Adventure|Children|Comedy|Sci-Fi, genres_Action|Adventure|Children|Crime|Mystery|Thriller, genres_Action|Adventure|Children|Drama, genres_Action|Adventure|Children|Fantasy, genres_Action|Adventure|Children|Fantasy|Mystery|Thriller, genres_Action|Adventure|Children|IMAX, genres_Action|Adventure|Children|Mystery|Sci-Fi, genres_Action|Adventure|Children|Sci-Fi, genres_Action|Adventure|Comedy, genres_Action|Adventure|Comedy|Crime, genres_Action|Adventure|Comedy|Crime|Drama, genres_Action|Adventure|Comedy|Crime|Drama|Film-Noir|Horror|Mystery|Thriller|Western, genres_Action|Adventure|Comedy|Crime|Fantasy, genres_Action|Adventure|Comedy|Crime|Mystery|Thriller, genres_Action|Adventure|Comedy|Crime|Romance|Thriller, genres_Action|Adventure|Comedy|Crime|Thriller, genres_Action|Adventure|Comedy|Documentary|Fantasy, genres_Action|Adventure|Comedy|Drama, genres_Action|Adventure|Comedy|Drama|Fantasy|Thriller, genres_Action|Adventure|Comedy|Drama|Romance, genres_Action|Adventure|Comedy|Drama|Romance|Thriller, genres_Action|Adventure|Comedy|Drama|Romance|War, genres_Action|Adventure|Comedy|Drama|Thriller, genres_Action|Adventure|Comedy|Drama|War, genres_Action|Adventure|Comedy|Fantasy, genres_Action|Adventure|Comedy|Fantasy|Horror, genres_Action|Adventure|Comedy|Fantasy|Horror|Thriller, genres_Action|Adventure|Comedy|Fantasy|Mystery, genres_Action|Adventure|Comedy|Fantasy|Romance, genres_Action|Adventure|Comedy|Fantasy|Sci-Fi, genres_Action|Adventure|Comedy|Fantasy|Sci-Fi|Thriller, genres_Action|Adventure|Comedy|Horror, genres_Action|Adventure|Comedy|Romance, genres_Action|Adventure|Comedy|Romance|Thriller, genres_Action|Adventure|Comedy|Sci-Fi, genres_Action|Adventure|Comedy|Sci-Fi|IMAX, genres_Action|Adventure|Comedy|Sci-Fi|Thriller, genres_Action|Adventure|Comedy|Thriller, genres_Action|Adventure|Comedy|War, genres_Action|Adventure|Comedy|Western, genres_Action|Adventure|Crime, genres_Action|Adventure|Crime|Drama, genres_Action|Adventure|Crime|Drama|Romance|Thriller, genres_Action|Adventure|Crime|Drama|Thriller, genres_Action|Adventure|Crime|Drama|Thriller|War, genres_Action|Adventure|Crime|Horror|Thriller, genres_Action|Adventure|Crime|IMAX, genres_Action|Adventure|Crime|Sci-Fi|Thriller, genres_Action|Adventure|Crime|Thriller, genres_Action|Adventure|Drama, genres_Action|Adventure|Drama|Fantasy, genres_Action|Adventure|Drama|Fantasy|IMAX, genres_Action|Adventure|Drama|Fantasy|Mystery|IMAX, genres_Action|Adventure|Drama|Fantasy|Romance, genres_Action|Adventure|Drama|Fantasy|Romance|Sci-Fi|Thriller, genres_Action|Adventure|Drama|Fantasy|Thriller, genres_Action|Adventure|Drama|Mystery|Thriller, genres_Action|Adventure|Drama|Romance, genres_Action|Adventure|Drama|Romance|Thriller, genres_Action|Adventure|Drama|Romance|Thriller|Western, genres_Action|Adventure|Drama|Romance|War, ...]\n",
            "Index: []\n",
            "\n",
            "[0 rows x 952 columns]\n"
          ]
        }
      ],
      "source": [
        "#Verificamos el tamaño de centroide\n",
        "print(centroide)\n",
        "\n",
        "######### ESTÁ ASOCIADO AL PROBLEMA CON movies_w, el dataframe no puede quedar vacío porque se utiliza en el modelo#############"
      ]
    },
    {
      "cell_type": "code",
      "execution_count": null,
      "metadata": {
        "id": "pkMzU09dXkk3"
      },
      "outputs": [],
      "source": [
        " ### filtrar películas no vistas\n",
        "movies_nw=movies_dum2[~movies_dum2['movie_id'].isin(l_movies_w)]\n",
        "## eliminar nombre e id\n",
        "movies_nw=movies_nw.drop(columns=['movie_id','title'])"
      ]
    },
    {
      "cell_type": "code",
      "execution_count": null,
      "metadata": {
        "colab": {
          "base_uri": "https://localhost:8080/"
        },
        "id": "DX5MPxiGk1-U",
        "outputId": "b113fab0-1960-49be-d838-4d89655788a3"
      },
      "outputs": [
        {
          "name": "stdout",
          "output_type": "stream",
          "text": [
            "(9742, 952)\n"
          ]
        }
      ],
      "source": [
        "#Verificamos el tamaño de movies_nw\n",
        "print (movies_nw.shape)"
      ]
    },
    {
      "cell_type": "code",
      "execution_count": null,
      "metadata": {
        "colab": {
          "base_uri": "https://localhost:8080/",
          "height": 373
        },
        "id": "1HTmUMK5XzND",
        "outputId": "902f989f-26aa-420a-a998-a5b7dfbd4c6b"
      },
      "outputs": [
        {
          "ename": "ValueError",
          "evalue": "Found array with 0 sample(s) (shape=(0, 952)) while a minimum of 1 is required by NearestNeighbors.",
          "output_type": "error",
          "traceback": [
            "\u001b[0;31m---------------------------------------------------------------------------\u001b[0m",
            "\u001b[0;31mValueError\u001b[0m                                Traceback (most recent call last)",
            "\u001b[0;32m<ipython-input-48-7d9350df50ca>\u001b[0m in \u001b[0;36m<cell line: 4>\u001b[0;34m()\u001b[0m\n\u001b[1;32m      2\u001b[0m \u001b[0mmodel\u001b[0m\u001b[0;34m=\u001b[0m\u001b[0mneighbors\u001b[0m\u001b[0;34m.\u001b[0m\u001b[0mNearestNeighbors\u001b[0m\u001b[0;34m(\u001b[0m\u001b[0mn_neighbors\u001b[0m\u001b[0;34m=\u001b[0m\u001b[0;36m11\u001b[0m\u001b[0;34m,\u001b[0m \u001b[0mmetric\u001b[0m\u001b[0;34m=\u001b[0m\u001b[0;34m'cosine'\u001b[0m\u001b[0;34m)\u001b[0m\u001b[0;34m\u001b[0m\u001b[0;34m\u001b[0m\u001b[0m\n\u001b[1;32m      3\u001b[0m \u001b[0mmodel\u001b[0m\u001b[0;34m.\u001b[0m\u001b[0mfit\u001b[0m\u001b[0;34m(\u001b[0m\u001b[0mmovies_nw\u001b[0m\u001b[0;34m)\u001b[0m\u001b[0;34m\u001b[0m\u001b[0;34m\u001b[0m\u001b[0m\n\u001b[0;32m----> 4\u001b[0;31m \u001b[0mdist\u001b[0m\u001b[0;34m,\u001b[0m \u001b[0midlist\u001b[0m \u001b[0;34m=\u001b[0m \u001b[0mmodel\u001b[0m\u001b[0;34m.\u001b[0m\u001b[0mkneighbors\u001b[0m\u001b[0;34m(\u001b[0m\u001b[0mcentroide\u001b[0m\u001b[0;34m)\u001b[0m\u001b[0;34m\u001b[0m\u001b[0;34m\u001b[0m\u001b[0m\n\u001b[0m\u001b[1;32m      5\u001b[0m \u001b[0;34m\u001b[0m\u001b[0m\n\u001b[1;32m      6\u001b[0m \u001b[0;31m###############DEBE SOLUCIONARSE EL DATAFRAME RESULTANTE DE CENTROIDE####################\u001b[0m\u001b[0;34m\u001b[0m\u001b[0;34m\u001b[0m\u001b[0m\n",
            "\u001b[0;32m/usr/local/lib/python3.10/dist-packages/sklearn/neighbors/_base.py\u001b[0m in \u001b[0;36mkneighbors\u001b[0;34m(self, X, n_neighbors, return_distance)\u001b[0m\n\u001b[1;32m    804\u001b[0m                 \u001b[0mX\u001b[0m \u001b[0;34m=\u001b[0m \u001b[0m_check_precomputed\u001b[0m\u001b[0;34m(\u001b[0m\u001b[0mX\u001b[0m\u001b[0;34m)\u001b[0m\u001b[0;34m\u001b[0m\u001b[0;34m\u001b[0m\u001b[0m\n\u001b[1;32m    805\u001b[0m             \u001b[0;32melse\u001b[0m\u001b[0;34m:\u001b[0m\u001b[0;34m\u001b[0m\u001b[0;34m\u001b[0m\u001b[0m\n\u001b[0;32m--> 806\u001b[0;31m                 \u001b[0mX\u001b[0m \u001b[0;34m=\u001b[0m \u001b[0mself\u001b[0m\u001b[0;34m.\u001b[0m\u001b[0m_validate_data\u001b[0m\u001b[0;34m(\u001b[0m\u001b[0mX\u001b[0m\u001b[0;34m,\u001b[0m \u001b[0maccept_sparse\u001b[0m\u001b[0;34m=\u001b[0m\u001b[0;34m\"csr\"\u001b[0m\u001b[0;34m,\u001b[0m \u001b[0mreset\u001b[0m\u001b[0;34m=\u001b[0m\u001b[0;32mFalse\u001b[0m\u001b[0;34m,\u001b[0m \u001b[0morder\u001b[0m\u001b[0;34m=\u001b[0m\u001b[0;34m\"C\"\u001b[0m\u001b[0;34m)\u001b[0m\u001b[0;34m\u001b[0m\u001b[0;34m\u001b[0m\u001b[0m\n\u001b[0m\u001b[1;32m    807\u001b[0m \u001b[0;34m\u001b[0m\u001b[0m\n\u001b[1;32m    808\u001b[0m         \u001b[0mn_samples_fit\u001b[0m \u001b[0;34m=\u001b[0m \u001b[0mself\u001b[0m\u001b[0;34m.\u001b[0m\u001b[0mn_samples_fit_\u001b[0m\u001b[0;34m\u001b[0m\u001b[0;34m\u001b[0m\u001b[0m\n",
            "\u001b[0;32m/usr/local/lib/python3.10/dist-packages/sklearn/base.py\u001b[0m in \u001b[0;36m_validate_data\u001b[0;34m(self, X, y, reset, validate_separately, **check_params)\u001b[0m\n\u001b[1;32m    563\u001b[0m             \u001b[0;32mraise\u001b[0m \u001b[0mValueError\u001b[0m\u001b[0;34m(\u001b[0m\u001b[0;34m\"Validation should be done on X, y or both.\"\u001b[0m\u001b[0;34m)\u001b[0m\u001b[0;34m\u001b[0m\u001b[0;34m\u001b[0m\u001b[0m\n\u001b[1;32m    564\u001b[0m         \u001b[0;32melif\u001b[0m \u001b[0;32mnot\u001b[0m \u001b[0mno_val_X\u001b[0m \u001b[0;32mand\u001b[0m \u001b[0mno_val_y\u001b[0m\u001b[0;34m:\u001b[0m\u001b[0;34m\u001b[0m\u001b[0;34m\u001b[0m\u001b[0m\n\u001b[0;32m--> 565\u001b[0;31m             \u001b[0mX\u001b[0m \u001b[0;34m=\u001b[0m \u001b[0mcheck_array\u001b[0m\u001b[0;34m(\u001b[0m\u001b[0mX\u001b[0m\u001b[0;34m,\u001b[0m \u001b[0minput_name\u001b[0m\u001b[0;34m=\u001b[0m\u001b[0;34m\"X\"\u001b[0m\u001b[0;34m,\u001b[0m \u001b[0;34m**\u001b[0m\u001b[0mcheck_params\u001b[0m\u001b[0;34m)\u001b[0m\u001b[0;34m\u001b[0m\u001b[0;34m\u001b[0m\u001b[0m\n\u001b[0m\u001b[1;32m    566\u001b[0m             \u001b[0mout\u001b[0m \u001b[0;34m=\u001b[0m \u001b[0mX\u001b[0m\u001b[0;34m\u001b[0m\u001b[0;34m\u001b[0m\u001b[0m\n\u001b[1;32m    567\u001b[0m         \u001b[0;32melif\u001b[0m \u001b[0mno_val_X\u001b[0m \u001b[0;32mand\u001b[0m \u001b[0;32mnot\u001b[0m \u001b[0mno_val_y\u001b[0m\u001b[0;34m:\u001b[0m\u001b[0;34m\u001b[0m\u001b[0;34m\u001b[0m\u001b[0m\n",
            "\u001b[0;32m/usr/local/lib/python3.10/dist-packages/sklearn/utils/validation.py\u001b[0m in \u001b[0;36mcheck_array\u001b[0;34m(array, accept_sparse, accept_large_sparse, dtype, order, copy, force_all_finite, ensure_2d, allow_nd, ensure_min_samples, ensure_min_features, estimator, input_name)\u001b[0m\n\u001b[1;32m    929\u001b[0m         \u001b[0mn_samples\u001b[0m \u001b[0;34m=\u001b[0m \u001b[0m_num_samples\u001b[0m\u001b[0;34m(\u001b[0m\u001b[0marray\u001b[0m\u001b[0;34m)\u001b[0m\u001b[0;34m\u001b[0m\u001b[0;34m\u001b[0m\u001b[0m\n\u001b[1;32m    930\u001b[0m         \u001b[0;32mif\u001b[0m \u001b[0mn_samples\u001b[0m \u001b[0;34m<\u001b[0m \u001b[0mensure_min_samples\u001b[0m\u001b[0;34m:\u001b[0m\u001b[0;34m\u001b[0m\u001b[0;34m\u001b[0m\u001b[0m\n\u001b[0;32m--> 931\u001b[0;31m             raise ValueError(\n\u001b[0m\u001b[1;32m    932\u001b[0m                 \u001b[0;34m\"Found array with %d sample(s) (shape=%s) while a\"\u001b[0m\u001b[0;34m\u001b[0m\u001b[0;34m\u001b[0m\u001b[0m\n\u001b[1;32m    933\u001b[0m                 \u001b[0;34m\" minimum of %d is required%s.\"\u001b[0m\u001b[0;34m\u001b[0m\u001b[0;34m\u001b[0m\u001b[0m\n",
            "\u001b[0;31mValueError\u001b[0m: Found array with 0 sample(s) (shape=(0, 952)) while a minimum of 1 is required by NearestNeighbors."
          ]
        }
      ],
      "source": [
        "### Entrenar modelo\n",
        "model=neighbors.NearestNeighbors(n_neighbors=11, metric='cosine')\n",
        "model.fit(movies_nw)\n",
        "dist, idlist = model.kneighbors(centroide)\n",
        "\n",
        "###############DEBE SOLUCIONARSE EL DATAFRAME RESULTANTE DE CENTROIDE####################"
      ]
    },
    {
      "cell_type": "code",
      "execution_count": null,
      "metadata": {
        "colab": {
          "base_uri": "https://localhost:8080/",
          "height": 176
        },
        "id": "aoU60OzanQLI",
        "outputId": "b67bebea-8b62-46e3-b7ce-1a225aa30f88"
      },
      "outputs": [
        {
          "ename": "NameError",
          "evalue": "name 'idlist' is not defined",
          "output_type": "error",
          "traceback": [
            "\u001b[0;31m---------------------------------------------------------------------------\u001b[0m",
            "\u001b[0;31mNameError\u001b[0m                                 Traceback (most recent call last)",
            "\u001b[0;32m<ipython-input-49-2bda9e701792>\u001b[0m in \u001b[0;36m<cell line: 1>\u001b[0;34m()\u001b[0m\n\u001b[0;32m----> 1\u001b[0;31m \u001b[0mids\u001b[0m\u001b[0;34m=\u001b[0m\u001b[0midlist\u001b[0m\u001b[0;34m[\u001b[0m\u001b[0;36m0\u001b[0m\u001b[0;34m]\u001b[0m \u001b[0;31m### queda en un array anidado, para sacarlo\u001b[0m\u001b[0;34m\u001b[0m\u001b[0;34m\u001b[0m\u001b[0m\n\u001b[0m\u001b[1;32m      2\u001b[0m \u001b[0mrecomend_b\u001b[0m\u001b[0;34m=\u001b[0m\u001b[0mmovies\u001b[0m\u001b[0;34m.\u001b[0m\u001b[0mloc\u001b[0m\u001b[0;34m[\u001b[0m\u001b[0mids\u001b[0m\u001b[0;34m]\u001b[0m\u001b[0;34m[\u001b[0m\u001b[0;34m[\u001b[0m\u001b[0;34m'title'\u001b[0m\u001b[0;34m,\u001b[0m\u001b[0;34m'movieId'\u001b[0m\u001b[0;34m]\u001b[0m\u001b[0;34m]\u001b[0m\u001b[0;34m\u001b[0m\u001b[0;34m\u001b[0m\u001b[0m\n\u001b[1;32m      3\u001b[0m \u001b[0mvistas\u001b[0m\u001b[0;34m=\u001b[0m\u001b[0mmovies\u001b[0m\u001b[0;34m[\u001b[0m\u001b[0mmovies\u001b[0m\u001b[0;34m[\u001b[0m\u001b[0;34m'movieId'\u001b[0m\u001b[0;34m]\u001b[0m\u001b[0;34m.\u001b[0m\u001b[0misin\u001b[0m\u001b[0;34m(\u001b[0m\u001b[0ml_movies_w\u001b[0m\u001b[0;34m)\u001b[0m\u001b[0;34m]\u001b[0m\u001b[0;34m[\u001b[0m\u001b[0;34m[\u001b[0m\u001b[0;34m'title'\u001b[0m\u001b[0;34m,\u001b[0m\u001b[0;34m'movieId'\u001b[0m\u001b[0;34m]\u001b[0m\u001b[0;34m]\u001b[0m\u001b[0;34m\u001b[0m\u001b[0;34m\u001b[0m\u001b[0m\n",
            "\u001b[0;31mNameError\u001b[0m: name 'idlist' is not defined"
          ]
        }
      ],
      "source": [
        "ids=idlist[0] ### queda en un array anidado, para sacarlo\n",
        "recomend_b=movies.loc[ids][['title','movieId']]\n",
        "vistas=movies[movies['movieId'].isin(l_movies_w)][['title','movieId']]"
      ]
    },
    {
      "cell_type": "code",
      "execution_count": null,
      "metadata": {
        "id": "u2fVxeJToNvT"
      },
      "outputs": [],
      "source": [
        "return recomend_b"
      ]
    },
    {
      "cell_type": "code",
      "execution_count": null,
      "metadata": {
        "id": "2i1jTqhooREg"
      },
      "outputs": [],
      "source": [
        "recomendar(52853)\n",
        "\n",
        "\n",
        "print(interact(recomendar))"
      ]
    },
    {
      "cell_type": "markdown",
      "metadata": {
        "id": "L_-4S95voWc4"
      },
      "source": [
        "##Sistema de recomendación filtro colaborativo"
      ]
    },
    {
      "cell_type": "code",
      "execution_count": null,
      "metadata": {
        "id": "HW7qtxFVoZTm"
      },
      "outputs": [],
      "source": [
        "### datos originales en pandas\n",
        "## knn solo sirve para calificaciones explicitas\n",
        "ratings=pd.read_sql('select * from ratings_final where rating>0', conn)"
      ]
    },
    {
      "cell_type": "code",
      "execution_count": null,
      "metadata": {
        "id": "W_zgcOrmpBWr"
      },
      "outputs": [],
      "source": [
        "####los datos deben ser leídos en un formato especial para surprise\n",
        "reader = Reader(rating_scale=(0, 10)) ### la escala de la calificación\n",
        "###las columnas deben estar en orden estándar: user item rating\n",
        "data   = Dataset.load_from_df(ratings[['user_id','movie_id','rating']], reader)"
      ]
    },
    {
      "cell_type": "code",
      "execution_count": null,
      "metadata": {
        "id": "4Ws3fePypPM6"
      },
      "outputs": [],
      "source": [
        "#####Existen varios modelos\n",
        "models=[KNNBasic(),KNNWithMeans(),KNNWithZScore(),KNNBaseline()]\n",
        "results = {}\n",
        "###knnBasiscs: calcula el rating ponderando por distancia con usuario/Items\n",
        "###KnnWith means: en la ponderación se resta la media del rating, y al final se suma la media general\n",
        "####KnnwithZscores: estandariza el rating restando media y dividiendo por desviación\n",
        "####Knnbaseline: calculan el desvío de cada calificación con respecto al promedio y con base en esos calculan la ponderación\n"
      ]
    },
    {
      "cell_type": "code",
      "execution_count": null,
      "metadata": {
        "id": "--zG2DeSpYrg"
      },
      "outputs": [],
      "source": [
        "#### for para probar varios modelos ##########\n",
        "model=models[1]\n",
        "for model in models:\n",
        "\n",
        "    CV_scores = cross_validate(model, data, measures=[\"MAE\",\"RMSE\"], cv=5, n_jobs=-1)\n",
        "\n",
        "    result = pd.DataFrame.from_dict(CV_scores).mean(axis=0).\\\n",
        "             rename({'test_mae':'MAE', 'test_rmse': 'RMSE'})\n",
        "    results[str(model).split(\"algorithms.\")[1].split(\"object \")[0]] = result"
      ]
    },
    {
      "cell_type": "code",
      "execution_count": null,
      "metadata": {
        "colab": {
          "base_uri": "https://localhost:8080/",
          "height": 175
        },
        "id": "8B8LcEgBpnRn",
        "outputId": "f09b4436-ed95-4817-fbad-08b599aeb2de"
      },
      "outputs": [
        {
          "data": {
            "application/vnd.google.colaboratory.intrinsic+json": {
              "summary": "{\n  \"name\": \"performance_df\",\n  \"rows\": 4,\n  \"fields\": [\n    {\n      \"column\": \"MAE\",\n      \"properties\": {\n        \"dtype\": \"number\",\n        \"std\": 0.01864250446273684,\n        \"min\": 0.6358115753818304,\n        \"max\": 0.6774153306425278,\n        \"num_unique_values\": 4,\n        \"samples\": [\n          0.6418240259535112,\n          0.6774153306425278,\n          0.6358115753818304\n        ],\n        \"semantic_type\": \"\",\n        \"description\": \"\"\n      }\n    },\n    {\n      \"column\": \"RMSE\",\n      \"properties\": {\n        \"dtype\": \"number\",\n        \"std\": 0.025143724652932114,\n        \"min\": 0.8373930570030016,\n        \"max\": 0.8934121652660423,\n        \"num_unique_values\": 4,\n        \"samples\": [\n          0.8469543552773754,\n          0.8934121652660423,\n          0.8373930570030016\n        ],\n        \"semantic_type\": \"\",\n        \"description\": \"\"\n      }\n    },\n    {\n      \"column\": \"fit_time\",\n      \"properties\": {\n        \"dtype\": \"number\",\n        \"std\": 0.0452926137392855,\n        \"min\": 0.05280570983886719,\n        \"max\": 0.1561248779296875,\n        \"num_unique_values\": 4,\n        \"samples\": [\n          0.11316022872924805,\n          0.05280570983886719,\n          0.1561248779296875\n        ],\n        \"semantic_type\": \"\",\n        \"description\": \"\"\n      }\n    },\n    {\n      \"column\": \"test_time\",\n      \"properties\": {\n        \"dtype\": \"number\",\n        \"std\": 0.18448347428562767,\n        \"min\": 0.9373315811157227,\n        \"max\": 1.3479476928710938,\n        \"num_unique_values\": 4,\n        \"samples\": [\n          1.301293420791626,\n          0.9373315811157227,\n          1.3479476928710938\n        ],\n        \"semantic_type\": \"\",\n        \"description\": \"\"\n      }\n    }\n  ]\n}",
              "type": "dataframe"
            },
            "text/html": [
              "\n",
              "  <div id=\"df-d7db2c97-2c0d-420c-9ac9-1242efbfcf38\" class=\"colab-df-container\">\n",
              "    <div>\n",
              "<style scoped>\n",
              "    .dataframe tbody tr th:only-of-type {\n",
              "        vertical-align: middle;\n",
              "    }\n",
              "\n",
              "    .dataframe tbody tr th {\n",
              "        vertical-align: top;\n",
              "    }\n",
              "\n",
              "    .dataframe thead th {\n",
              "        text-align: right;\n",
              "    }\n",
              "</style>\n",
              "<table border=\"1\" class=\"dataframe\">\n",
              "  <thead>\n",
              "    <tr style=\"text-align: right;\">\n",
              "      <th></th>\n",
              "      <th>MAE</th>\n",
              "      <th>RMSE</th>\n",
              "      <th>fit_time</th>\n",
              "      <th>test_time</th>\n",
              "    </tr>\n",
              "  </thead>\n",
              "  <tbody>\n",
              "    <tr>\n",
              "      <th>knns.KNNBaseline</th>\n",
              "      <td>0.635812</td>\n",
              "      <td>0.837393</td>\n",
              "      <td>0.156125</td>\n",
              "      <td>1.347948</td>\n",
              "    </tr>\n",
              "    <tr>\n",
              "      <th>knns.KNNWithZScore</th>\n",
              "      <td>0.641824</td>\n",
              "      <td>0.846954</td>\n",
              "      <td>0.113160</td>\n",
              "      <td>1.301293</td>\n",
              "    </tr>\n",
              "    <tr>\n",
              "      <th>knns.KNNWithMeans</th>\n",
              "      <td>0.645216</td>\n",
              "      <td>0.847668</td>\n",
              "      <td>0.075396</td>\n",
              "      <td>1.158665</td>\n",
              "    </tr>\n",
              "    <tr>\n",
              "      <th>knns.KNNBasic</th>\n",
              "      <td>0.677415</td>\n",
              "      <td>0.893412</td>\n",
              "      <td>0.052806</td>\n",
              "      <td>0.937332</td>\n",
              "    </tr>\n",
              "  </tbody>\n",
              "</table>\n",
              "</div>\n",
              "    <div class=\"colab-df-buttons\">\n",
              "\n",
              "  <div class=\"colab-df-container\">\n",
              "    <button class=\"colab-df-convert\" onclick=\"convertToInteractive('df-d7db2c97-2c0d-420c-9ac9-1242efbfcf38')\"\n",
              "            title=\"Convert this dataframe to an interactive table.\"\n",
              "            style=\"display:none;\">\n",
              "\n",
              "  <svg xmlns=\"http://www.w3.org/2000/svg\" height=\"24px\" viewBox=\"0 -960 960 960\">\n",
              "    <path d=\"M120-120v-720h720v720H120Zm60-500h600v-160H180v160Zm220 220h160v-160H400v160Zm0 220h160v-160H400v160ZM180-400h160v-160H180v160Zm440 0h160v-160H620v160ZM180-180h160v-160H180v160Zm440 0h160v-160H620v160Z\"/>\n",
              "  </svg>\n",
              "    </button>\n",
              "\n",
              "  <style>\n",
              "    .colab-df-container {\n",
              "      display:flex;\n",
              "      gap: 12px;\n",
              "    }\n",
              "\n",
              "    .colab-df-convert {\n",
              "      background-color: #E8F0FE;\n",
              "      border: none;\n",
              "      border-radius: 50%;\n",
              "      cursor: pointer;\n",
              "      display: none;\n",
              "      fill: #1967D2;\n",
              "      height: 32px;\n",
              "      padding: 0 0 0 0;\n",
              "      width: 32px;\n",
              "    }\n",
              "\n",
              "    .colab-df-convert:hover {\n",
              "      background-color: #E2EBFA;\n",
              "      box-shadow: 0px 1px 2px rgba(60, 64, 67, 0.3), 0px 1px 3px 1px rgba(60, 64, 67, 0.15);\n",
              "      fill: #174EA6;\n",
              "    }\n",
              "\n",
              "    .colab-df-buttons div {\n",
              "      margin-bottom: 4px;\n",
              "    }\n",
              "\n",
              "    [theme=dark] .colab-df-convert {\n",
              "      background-color: #3B4455;\n",
              "      fill: #D2E3FC;\n",
              "    }\n",
              "\n",
              "    [theme=dark] .colab-df-convert:hover {\n",
              "      background-color: #434B5C;\n",
              "      box-shadow: 0px 1px 3px 1px rgba(0, 0, 0, 0.15);\n",
              "      filter: drop-shadow(0px 1px 2px rgba(0, 0, 0, 0.3));\n",
              "      fill: #FFFFFF;\n",
              "    }\n",
              "  </style>\n",
              "\n",
              "    <script>\n",
              "      const buttonEl =\n",
              "        document.querySelector('#df-d7db2c97-2c0d-420c-9ac9-1242efbfcf38 button.colab-df-convert');\n",
              "      buttonEl.style.display =\n",
              "        google.colab.kernel.accessAllowed ? 'block' : 'none';\n",
              "\n",
              "      async function convertToInteractive(key) {\n",
              "        const element = document.querySelector('#df-d7db2c97-2c0d-420c-9ac9-1242efbfcf38');\n",
              "        const dataTable =\n",
              "          await google.colab.kernel.invokeFunction('convertToInteractive',\n",
              "                                                    [key], {});\n",
              "        if (!dataTable) return;\n",
              "\n",
              "        const docLinkHtml = 'Like what you see? Visit the ' +\n",
              "          '<a target=\"_blank\" href=https://colab.research.google.com/notebooks/data_table.ipynb>data table notebook</a>'\n",
              "          + ' to learn more about interactive tables.';\n",
              "        element.innerHTML = '';\n",
              "        dataTable['output_type'] = 'display_data';\n",
              "        await google.colab.output.renderOutput(dataTable, element);\n",
              "        const docLink = document.createElement('div');\n",
              "        docLink.innerHTML = docLinkHtml;\n",
              "        element.appendChild(docLink);\n",
              "      }\n",
              "    </script>\n",
              "  </div>\n",
              "\n",
              "\n",
              "<div id=\"df-5b8584b9-5664-4c69-bcfc-39dfa2c580c9\">\n",
              "  <button class=\"colab-df-quickchart\" onclick=\"quickchart('df-5b8584b9-5664-4c69-bcfc-39dfa2c580c9')\"\n",
              "            title=\"Suggest charts\"\n",
              "            style=\"display:none;\">\n",
              "\n",
              "<svg xmlns=\"http://www.w3.org/2000/svg\" height=\"24px\"viewBox=\"0 0 24 24\"\n",
              "     width=\"24px\">\n",
              "    <g>\n",
              "        <path d=\"M19 3H5c-1.1 0-2 .9-2 2v14c0 1.1.9 2 2 2h14c1.1 0 2-.9 2-2V5c0-1.1-.9-2-2-2zM9 17H7v-7h2v7zm4 0h-2V7h2v10zm4 0h-2v-4h2v4z\"/>\n",
              "    </g>\n",
              "</svg>\n",
              "  </button>\n",
              "\n",
              "<style>\n",
              "  .colab-df-quickchart {\n",
              "      --bg-color: #E8F0FE;\n",
              "      --fill-color: #1967D2;\n",
              "      --hover-bg-color: #E2EBFA;\n",
              "      --hover-fill-color: #174EA6;\n",
              "      --disabled-fill-color: #AAA;\n",
              "      --disabled-bg-color: #DDD;\n",
              "  }\n",
              "\n",
              "  [theme=dark] .colab-df-quickchart {\n",
              "      --bg-color: #3B4455;\n",
              "      --fill-color: #D2E3FC;\n",
              "      --hover-bg-color: #434B5C;\n",
              "      --hover-fill-color: #FFFFFF;\n",
              "      --disabled-bg-color: #3B4455;\n",
              "      --disabled-fill-color: #666;\n",
              "  }\n",
              "\n",
              "  .colab-df-quickchart {\n",
              "    background-color: var(--bg-color);\n",
              "    border: none;\n",
              "    border-radius: 50%;\n",
              "    cursor: pointer;\n",
              "    display: none;\n",
              "    fill: var(--fill-color);\n",
              "    height: 32px;\n",
              "    padding: 0;\n",
              "    width: 32px;\n",
              "  }\n",
              "\n",
              "  .colab-df-quickchart:hover {\n",
              "    background-color: var(--hover-bg-color);\n",
              "    box-shadow: 0 1px 2px rgba(60, 64, 67, 0.3), 0 1px 3px 1px rgba(60, 64, 67, 0.15);\n",
              "    fill: var(--button-hover-fill-color);\n",
              "  }\n",
              "\n",
              "  .colab-df-quickchart-complete:disabled,\n",
              "  .colab-df-quickchart-complete:disabled:hover {\n",
              "    background-color: var(--disabled-bg-color);\n",
              "    fill: var(--disabled-fill-color);\n",
              "    box-shadow: none;\n",
              "  }\n",
              "\n",
              "  .colab-df-spinner {\n",
              "    border: 2px solid var(--fill-color);\n",
              "    border-color: transparent;\n",
              "    border-bottom-color: var(--fill-color);\n",
              "    animation:\n",
              "      spin 1s steps(1) infinite;\n",
              "  }\n",
              "\n",
              "  @keyframes spin {\n",
              "    0% {\n",
              "      border-color: transparent;\n",
              "      border-bottom-color: var(--fill-color);\n",
              "      border-left-color: var(--fill-color);\n",
              "    }\n",
              "    20% {\n",
              "      border-color: transparent;\n",
              "      border-left-color: var(--fill-color);\n",
              "      border-top-color: var(--fill-color);\n",
              "    }\n",
              "    30% {\n",
              "      border-color: transparent;\n",
              "      border-left-color: var(--fill-color);\n",
              "      border-top-color: var(--fill-color);\n",
              "      border-right-color: var(--fill-color);\n",
              "    }\n",
              "    40% {\n",
              "      border-color: transparent;\n",
              "      border-right-color: var(--fill-color);\n",
              "      border-top-color: var(--fill-color);\n",
              "    }\n",
              "    60% {\n",
              "      border-color: transparent;\n",
              "      border-right-color: var(--fill-color);\n",
              "    }\n",
              "    80% {\n",
              "      border-color: transparent;\n",
              "      border-right-color: var(--fill-color);\n",
              "      border-bottom-color: var(--fill-color);\n",
              "    }\n",
              "    90% {\n",
              "      border-color: transparent;\n",
              "      border-bottom-color: var(--fill-color);\n",
              "    }\n",
              "  }\n",
              "</style>\n",
              "\n",
              "  <script>\n",
              "    async function quickchart(key) {\n",
              "      const quickchartButtonEl =\n",
              "        document.querySelector('#' + key + ' button');\n",
              "      quickchartButtonEl.disabled = true;  // To prevent multiple clicks.\n",
              "      quickchartButtonEl.classList.add('colab-df-spinner');\n",
              "      try {\n",
              "        const charts = await google.colab.kernel.invokeFunction(\n",
              "            'suggestCharts', [key], {});\n",
              "      } catch (error) {\n",
              "        console.error('Error during call to suggestCharts:', error);\n",
              "      }\n",
              "      quickchartButtonEl.classList.remove('colab-df-spinner');\n",
              "      quickchartButtonEl.classList.add('colab-df-quickchart-complete');\n",
              "    }\n",
              "    (() => {\n",
              "      let quickchartButtonEl =\n",
              "        document.querySelector('#df-5b8584b9-5664-4c69-bcfc-39dfa2c580c9 button');\n",
              "      quickchartButtonEl.style.display =\n",
              "        google.colab.kernel.accessAllowed ? 'block' : 'none';\n",
              "    })();\n",
              "  </script>\n",
              "</div>\n",
              "    </div>\n",
              "  </div>\n"
            ],
            "text/plain": [
              "                          MAE      RMSE  fit_time  test_time\n",
              "knns.KNNBaseline     0.635812  0.837393  0.156125   1.347948\n",
              "knns.KNNWithZScore   0.641824  0.846954  0.113160   1.301293\n",
              "knns.KNNWithMeans    0.645216  0.847668  0.075396   1.158665\n",
              "knns.KNNBasic        0.677415  0.893412  0.052806   0.937332"
            ]
          },
          "execution_count": 32,
          "metadata": {},
          "output_type": "execute_result"
        }
      ],
      "source": [
        "performance_df = pd.DataFrame.from_dict(results).T\n",
        "performance_df.sort_values(by='RMSE')"
      ]
    },
    {
      "cell_type": "code",
      "execution_count": null,
      "metadata": {
        "id": "0XBmfguwp3Tf"
      },
      "outputs": [],
      "source": [
        "# Se escoge el mejor knn withmeans\n",
        "param_grid = { 'sim_options' : {'name': ['msd','cosine'], \\\n",
        "                                'min_support': [5,2], \\\n",
        "                                'user_based': [False, True]}\n",
        "             }\n",
        "## min support es la cantidad de items o usuarios que necesita para calcular recomendación\n",
        "## name medidas de distancia\n",
        "\n",
        "### se afina si es basado en usuario o basado en ítem"
      ]
    },
    {
      "cell_type": "code",
      "execution_count": null,
      "metadata": {
        "id": "cVxi9uh5qAn8"
      },
      "outputs": [],
      "source": [
        "gridsearchKNNWithMeans = GridSearchCV(KNNWithMeans, param_grid, measures=['rmse'], \\\n",
        "                                      cv=2, n_jobs=-1)"
      ]
    },
    {
      "cell_type": "code",
      "execution_count": null,
      "metadata": {
        "id": "MM8mEtB0qLFZ"
      },
      "outputs": [],
      "source": [
        "gridsearchKNNWithMeans.fit(data)"
      ]
    },
    {
      "cell_type": "code",
      "execution_count": null,
      "metadata": {
        "id": "gOtUueT9qSuY"
      },
      "outputs": [],
      "source": [
        "gridsearchKNNWithMeans.best_params[\"rmse\"]\n",
        "gridsearchKNNWithMeans.best_score[\"rmse\"]\n",
        "gs_model=gridsearchKNNWithMeans.best_estimator['rmse'] ### mejor estimador de gridsearch"
      ]
    },
    {
      "cell_type": "markdown",
      "metadata": {
        "id": "05UFka4jqWTI"
      },
      "source": [
        "## Entrenar con todos los datos y Realizar predicciones con el modelo afinado"
      ]
    },
    {
      "cell_type": "code",
      "execution_count": null,
      "metadata": {
        "colab": {
          "base_uri": "https://localhost:8080/"
        },
        "id": "GCx_lSbxqTB4",
        "outputId": "2528f72f-d978-4b7e-db53-8753a95fc816"
      },
      "outputs": [
        {
          "name": "stdout",
          "output_type": "stream",
          "text": [
            "Computing the msd similarity matrix...\n",
            "Done computing similarity matrix.\n"
          ]
        }
      ],
      "source": [
        "trainset = data.build_full_trainset() ### esta función convierte todos los datos en entrenamiento, las funciones anteriores dividen  en entrenamiento y evaluación\n",
        "model=gs_model.fit(trainset) ## se reentrena sobre todos los datos posibles (sin dividir)\n"
      ]
    },
    {
      "cell_type": "code",
      "execution_count": null,
      "metadata": {
        "colab": {
          "base_uri": "https://localhost:8080/"
        },
        "id": "aZ9qvH9xqgw9",
        "outputId": "83ae469e-d2ed-40c7-bc1c-2094cb67ac94"
      },
      "outputs": [
        {
          "data": {
            "text/plain": [
              "127069"
            ]
          },
          "execution_count": 38,
          "metadata": {},
          "output_type": "execute_result"
        }
      ],
      "source": [
        "predset = trainset.build_anti_testset() ### crea una tabla con todos los usuarios y las películas que no han visto\n",
        "#### en la columna de rating pone el promedio de todos los rating, en caso de que no pueda calcularlo para un item-usuario\n",
        "len(predset)"
      ]
    },
    {
      "cell_type": "code",
      "execution_count": null,
      "metadata": {
        "id": "yaHcaudEqoe6"
      },
      "outputs": [],
      "source": [
        "predictions = gs_model.test(predset) ### función muy pesada, hace las predicciones de rating para todas las películas que no ha visto un usuario\n",
        "### la funcion test recibe un test set construido con build_test method, o el que genera crosvalidate"
      ]
    },
    {
      "cell_type": "code",
      "execution_count": null,
      "metadata": {
        "colab": {
          "base_uri": "https://localhost:8080/",
          "height": 424
        },
        "id": "dJoLAePiqzuz",
        "outputId": "a8538824-ebf8-46dc-ac1c-ef9494bb1bb7"
      },
      "outputs": [
        {
          "data": {
            "application/vnd.google.colaboratory.intrinsic+json": {
              "type": "dataframe"
            },
            "text/html": [
              "\n",
              "  <div id=\"df-c19d4bf2-6357-4304-a7bc-a31ea9994731\" class=\"colab-df-container\">\n",
              "    <div>\n",
              "<style scoped>\n",
              "    .dataframe tbody tr th:only-of-type {\n",
              "        vertical-align: middle;\n",
              "    }\n",
              "\n",
              "    .dataframe tbody tr th {\n",
              "        vertical-align: top;\n",
              "    }\n",
              "\n",
              "    .dataframe thead th {\n",
              "        text-align: right;\n",
              "    }\n",
              "</style>\n",
              "<table border=\"1\" class=\"dataframe\">\n",
              "  <thead>\n",
              "    <tr style=\"text-align: right;\">\n",
              "      <th></th>\n",
              "      <th>uid</th>\n",
              "      <th>iid</th>\n",
              "      <th>r_ui</th>\n",
              "      <th>est</th>\n",
              "      <th>details</th>\n",
              "    </tr>\n",
              "  </thead>\n",
              "  <tbody>\n",
              "    <tr>\n",
              "      <th>111996</th>\n",
              "      <td>543</td>\n",
              "      <td>318</td>\n",
              "      <td>3.716676</td>\n",
              "      <td>5.234745</td>\n",
              "      <td>{'actual_k': 38, 'was_impossible': False}</td>\n",
              "    </tr>\n",
              "    <tr>\n",
              "      <th>91703</th>\n",
              "      <td>429</td>\n",
              "      <td>318</td>\n",
              "      <td>3.716676</td>\n",
              "      <td>5.232612</td>\n",
              "      <td>{'actual_k': 25, 'was_impossible': False}</td>\n",
              "    </tr>\n",
              "    <tr>\n",
              "      <th>124516</th>\n",
              "      <td>597</td>\n",
              "      <td>318</td>\n",
              "      <td>3.716676</td>\n",
              "      <td>5.209582</td>\n",
              "      <td>{'actual_k': 40, 'was_impossible': False}</td>\n",
              "    </tr>\n",
              "    <tr>\n",
              "      <th>108921</th>\n",
              "      <td>523</td>\n",
              "      <td>858</td>\n",
              "      <td>3.716676</td>\n",
              "      <td>5.204872</td>\n",
              "      <td>{'actual_k': 37, 'was_impossible': False}</td>\n",
              "    </tr>\n",
              "    <tr>\n",
              "      <th>108954</th>\n",
              "      <td>523</td>\n",
              "      <td>1276</td>\n",
              "      <td>3.716676</td>\n",
              "      <td>5.187059</td>\n",
              "      <td>{'actual_k': 34, 'was_impossible': False}</td>\n",
              "    </tr>\n",
              "    <tr>\n",
              "      <th>...</th>\n",
              "      <td>...</td>\n",
              "      <td>...</td>\n",
              "      <td>...</td>\n",
              "      <td>...</td>\n",
              "      <td>...</td>\n",
              "    </tr>\n",
              "    <tr>\n",
              "      <th>60526</th>\n",
              "      <td>287</td>\n",
              "      <td>2701</td>\n",
              "      <td>3.716676</td>\n",
              "      <td>0.725391</td>\n",
              "      <td>{'actual_k': 40, 'was_impossible': False}</td>\n",
              "    </tr>\n",
              "    <tr>\n",
              "      <th>34425</th>\n",
              "      <td>153</td>\n",
              "      <td>173</td>\n",
              "      <td>3.716676</td>\n",
              "      <td>0.671468</td>\n",
              "      <td>{'actual_k': 40, 'was_impossible': False}</td>\n",
              "    </tr>\n",
              "    <tr>\n",
              "      <th>34183</th>\n",
              "      <td>153</td>\n",
              "      <td>2054</td>\n",
              "      <td>3.716676</td>\n",
              "      <td>0.652668</td>\n",
              "      <td>{'actual_k': 40, 'was_impossible': False}</td>\n",
              "    </tr>\n",
              "    <tr>\n",
              "      <th>34294</th>\n",
              "      <td>153</td>\n",
              "      <td>435</td>\n",
              "      <td>3.716676</td>\n",
              "      <td>0.462566</td>\n",
              "      <td>{'actual_k': 40, 'was_impossible': False}</td>\n",
              "    </tr>\n",
              "    <tr>\n",
              "      <th>34311</th>\n",
              "      <td>153</td>\n",
              "      <td>2701</td>\n",
              "      <td>3.716676</td>\n",
              "      <td>0.333483</td>\n",
              "      <td>{'actual_k': 40, 'was_impossible': False}</td>\n",
              "    </tr>\n",
              "  </tbody>\n",
              "</table>\n",
              "<p>127069 rows × 5 columns</p>\n",
              "</div>\n",
              "    <div class=\"colab-df-buttons\">\n",
              "\n",
              "  <div class=\"colab-df-container\">\n",
              "    <button class=\"colab-df-convert\" onclick=\"convertToInteractive('df-c19d4bf2-6357-4304-a7bc-a31ea9994731')\"\n",
              "            title=\"Convert this dataframe to an interactive table.\"\n",
              "            style=\"display:none;\">\n",
              "\n",
              "  <svg xmlns=\"http://www.w3.org/2000/svg\" height=\"24px\" viewBox=\"0 -960 960 960\">\n",
              "    <path d=\"M120-120v-720h720v720H120Zm60-500h600v-160H180v160Zm220 220h160v-160H400v160Zm0 220h160v-160H400v160ZM180-400h160v-160H180v160Zm440 0h160v-160H620v160ZM180-180h160v-160H180v160Zm440 0h160v-160H620v160Z\"/>\n",
              "  </svg>\n",
              "    </button>\n",
              "\n",
              "  <style>\n",
              "    .colab-df-container {\n",
              "      display:flex;\n",
              "      gap: 12px;\n",
              "    }\n",
              "\n",
              "    .colab-df-convert {\n",
              "      background-color: #E8F0FE;\n",
              "      border: none;\n",
              "      border-radius: 50%;\n",
              "      cursor: pointer;\n",
              "      display: none;\n",
              "      fill: #1967D2;\n",
              "      height: 32px;\n",
              "      padding: 0 0 0 0;\n",
              "      width: 32px;\n",
              "    }\n",
              "\n",
              "    .colab-df-convert:hover {\n",
              "      background-color: #E2EBFA;\n",
              "      box-shadow: 0px 1px 2px rgba(60, 64, 67, 0.3), 0px 1px 3px 1px rgba(60, 64, 67, 0.15);\n",
              "      fill: #174EA6;\n",
              "    }\n",
              "\n",
              "    .colab-df-buttons div {\n",
              "      margin-bottom: 4px;\n",
              "    }\n",
              "\n",
              "    [theme=dark] .colab-df-convert {\n",
              "      background-color: #3B4455;\n",
              "      fill: #D2E3FC;\n",
              "    }\n",
              "\n",
              "    [theme=dark] .colab-df-convert:hover {\n",
              "      background-color: #434B5C;\n",
              "      box-shadow: 0px 1px 3px 1px rgba(0, 0, 0, 0.15);\n",
              "      filter: drop-shadow(0px 1px 2px rgba(0, 0, 0, 0.3));\n",
              "      fill: #FFFFFF;\n",
              "    }\n",
              "  </style>\n",
              "\n",
              "    <script>\n",
              "      const buttonEl =\n",
              "        document.querySelector('#df-c19d4bf2-6357-4304-a7bc-a31ea9994731 button.colab-df-convert');\n",
              "      buttonEl.style.display =\n",
              "        google.colab.kernel.accessAllowed ? 'block' : 'none';\n",
              "\n",
              "      async function convertToInteractive(key) {\n",
              "        const element = document.querySelector('#df-c19d4bf2-6357-4304-a7bc-a31ea9994731');\n",
              "        const dataTable =\n",
              "          await google.colab.kernel.invokeFunction('convertToInteractive',\n",
              "                                                    [key], {});\n",
              "        if (!dataTable) return;\n",
              "\n",
              "        const docLinkHtml = 'Like what you see? Visit the ' +\n",
              "          '<a target=\"_blank\" href=https://colab.research.google.com/notebooks/data_table.ipynb>data table notebook</a>'\n",
              "          + ' to learn more about interactive tables.';\n",
              "        element.innerHTML = '';\n",
              "        dataTable['output_type'] = 'display_data';\n",
              "        await google.colab.output.renderOutput(dataTable, element);\n",
              "        const docLink = document.createElement('div');\n",
              "        docLink.innerHTML = docLinkHtml;\n",
              "        element.appendChild(docLink);\n",
              "      }\n",
              "    </script>\n",
              "  </div>\n",
              "\n",
              "\n",
              "<div id=\"df-db93c831-8872-4582-b248-350798d91339\">\n",
              "  <button class=\"colab-df-quickchart\" onclick=\"quickchart('df-db93c831-8872-4582-b248-350798d91339')\"\n",
              "            title=\"Suggest charts\"\n",
              "            style=\"display:none;\">\n",
              "\n",
              "<svg xmlns=\"http://www.w3.org/2000/svg\" height=\"24px\"viewBox=\"0 0 24 24\"\n",
              "     width=\"24px\">\n",
              "    <g>\n",
              "        <path d=\"M19 3H5c-1.1 0-2 .9-2 2v14c0 1.1.9 2 2 2h14c1.1 0 2-.9 2-2V5c0-1.1-.9-2-2-2zM9 17H7v-7h2v7zm4 0h-2V7h2v10zm4 0h-2v-4h2v4z\"/>\n",
              "    </g>\n",
              "</svg>\n",
              "  </button>\n",
              "\n",
              "<style>\n",
              "  .colab-df-quickchart {\n",
              "      --bg-color: #E8F0FE;\n",
              "      --fill-color: #1967D2;\n",
              "      --hover-bg-color: #E2EBFA;\n",
              "      --hover-fill-color: #174EA6;\n",
              "      --disabled-fill-color: #AAA;\n",
              "      --disabled-bg-color: #DDD;\n",
              "  }\n",
              "\n",
              "  [theme=dark] .colab-df-quickchart {\n",
              "      --bg-color: #3B4455;\n",
              "      --fill-color: #D2E3FC;\n",
              "      --hover-bg-color: #434B5C;\n",
              "      --hover-fill-color: #FFFFFF;\n",
              "      --disabled-bg-color: #3B4455;\n",
              "      --disabled-fill-color: #666;\n",
              "  }\n",
              "\n",
              "  .colab-df-quickchart {\n",
              "    background-color: var(--bg-color);\n",
              "    border: none;\n",
              "    border-radius: 50%;\n",
              "    cursor: pointer;\n",
              "    display: none;\n",
              "    fill: var(--fill-color);\n",
              "    height: 32px;\n",
              "    padding: 0;\n",
              "    width: 32px;\n",
              "  }\n",
              "\n",
              "  .colab-df-quickchart:hover {\n",
              "    background-color: var(--hover-bg-color);\n",
              "    box-shadow: 0 1px 2px rgba(60, 64, 67, 0.3), 0 1px 3px 1px rgba(60, 64, 67, 0.15);\n",
              "    fill: var(--button-hover-fill-color);\n",
              "  }\n",
              "\n",
              "  .colab-df-quickchart-complete:disabled,\n",
              "  .colab-df-quickchart-complete:disabled:hover {\n",
              "    background-color: var(--disabled-bg-color);\n",
              "    fill: var(--disabled-fill-color);\n",
              "    box-shadow: none;\n",
              "  }\n",
              "\n",
              "  .colab-df-spinner {\n",
              "    border: 2px solid var(--fill-color);\n",
              "    border-color: transparent;\n",
              "    border-bottom-color: var(--fill-color);\n",
              "    animation:\n",
              "      spin 1s steps(1) infinite;\n",
              "  }\n",
              "\n",
              "  @keyframes spin {\n",
              "    0% {\n",
              "      border-color: transparent;\n",
              "      border-bottom-color: var(--fill-color);\n",
              "      border-left-color: var(--fill-color);\n",
              "    }\n",
              "    20% {\n",
              "      border-color: transparent;\n",
              "      border-left-color: var(--fill-color);\n",
              "      border-top-color: var(--fill-color);\n",
              "    }\n",
              "    30% {\n",
              "      border-color: transparent;\n",
              "      border-left-color: var(--fill-color);\n",
              "      border-top-color: var(--fill-color);\n",
              "      border-right-color: var(--fill-color);\n",
              "    }\n",
              "    40% {\n",
              "      border-color: transparent;\n",
              "      border-right-color: var(--fill-color);\n",
              "      border-top-color: var(--fill-color);\n",
              "    }\n",
              "    60% {\n",
              "      border-color: transparent;\n",
              "      border-right-color: var(--fill-color);\n",
              "    }\n",
              "    80% {\n",
              "      border-color: transparent;\n",
              "      border-right-color: var(--fill-color);\n",
              "      border-bottom-color: var(--fill-color);\n",
              "    }\n",
              "    90% {\n",
              "      border-color: transparent;\n",
              "      border-bottom-color: var(--fill-color);\n",
              "    }\n",
              "  }\n",
              "</style>\n",
              "\n",
              "  <script>\n",
              "    async function quickchart(key) {\n",
              "      const quickchartButtonEl =\n",
              "        document.querySelector('#' + key + ' button');\n",
              "      quickchartButtonEl.disabled = true;  // To prevent multiple clicks.\n",
              "      quickchartButtonEl.classList.add('colab-df-spinner');\n",
              "      try {\n",
              "        const charts = await google.colab.kernel.invokeFunction(\n",
              "            'suggestCharts', [key], {});\n",
              "      } catch (error) {\n",
              "        console.error('Error during call to suggestCharts:', error);\n",
              "      }\n",
              "      quickchartButtonEl.classList.remove('colab-df-spinner');\n",
              "      quickchartButtonEl.classList.add('colab-df-quickchart-complete');\n",
              "    }\n",
              "    (() => {\n",
              "      let quickchartButtonEl =\n",
              "        document.querySelector('#df-db93c831-8872-4582-b248-350798d91339 button');\n",
              "      quickchartButtonEl.style.display =\n",
              "        google.colab.kernel.accessAllowed ? 'block' : 'none';\n",
              "    })();\n",
              "  </script>\n",
              "</div>\n",
              "    </div>\n",
              "  </div>\n"
            ],
            "text/plain": [
              "        uid   iid      r_ui       est  \\\n",
              "111996  543   318  3.716676  5.234745   \n",
              "91703   429   318  3.716676  5.232612   \n",
              "124516  597   318  3.716676  5.209582   \n",
              "108921  523   858  3.716676  5.204872   \n",
              "108954  523  1276  3.716676  5.187059   \n",
              "...     ...   ...       ...       ...   \n",
              "60526   287  2701  3.716676  0.725391   \n",
              "34425   153   173  3.716676  0.671468   \n",
              "34183   153  2054  3.716676  0.652668   \n",
              "34294   153   435  3.716676  0.462566   \n",
              "34311   153  2701  3.716676  0.333483   \n",
              "\n",
              "                                          details  \n",
              "111996  {'actual_k': 38, 'was_impossible': False}  \n",
              "91703   {'actual_k': 25, 'was_impossible': False}  \n",
              "124516  {'actual_k': 40, 'was_impossible': False}  \n",
              "108921  {'actual_k': 37, 'was_impossible': False}  \n",
              "108954  {'actual_k': 34, 'was_impossible': False}  \n",
              "...                                           ...  \n",
              "60526   {'actual_k': 40, 'was_impossible': False}  \n",
              "34425   {'actual_k': 40, 'was_impossible': False}  \n",
              "34183   {'actual_k': 40, 'was_impossible': False}  \n",
              "34294   {'actual_k': 40, 'was_impossible': False}  \n",
              "34311   {'actual_k': 40, 'was_impossible': False}  \n",
              "\n",
              "[127069 rows x 5 columns]"
            ]
          },
          "execution_count": 40,
          "metadata": {},
          "output_type": "execute_result"
        }
      ],
      "source": [
        "####### predicción para una película puntual\n",
        "model.predict(uid=269397, iid='0446353205',r_ui='') ### uid debía estar en número e isb en comillas\n",
        "\n",
        "predictions_df = pd.DataFrame(predictions) ### esta tabla se puede llevar a una base donde estarán todas las predicciones\n",
        "predictions_df.shape\n",
        "predictions_df.head()\n",
        "predictions_df['r_ui'].unique() ### promedio de ratings\n",
        "predictions_df.sort_values(by='est',ascending=False)"
      ]
    },
    {
      "cell_type": "markdown",
      "metadata": {
        "id": "dw4yQ4CMrHBH"
      },
      "source": [
        "##Función para recomendar las 10 películas con mejores predicciones y llevar a la base de datos para consultar el resto de información"
      ]
    },
    {
      "cell_type": "code",
      "execution_count": null,
      "metadata": {
        "colab": {
          "base_uri": "https://localhost:8080/",
          "height": 53
        },
        "id": "s342-QHyrDCJ",
        "outputId": "4ec22281-95e4-4cfe-d9bd-b4ec0304650b"
      },
      "outputs": [
        {
          "data": {
            "application/vnd.google.colaboratory.intrinsic+json": {
              "repr_error": "Out of range float values are not JSON compliant: nan",
              "type": "dataframe"
            },
            "text/html": [
              "\n",
              "  <div id=\"df-04557f01-c302-48a2-aa95-791cd33726c2\" class=\"colab-df-container\">\n",
              "    <div>\n",
              "<style scoped>\n",
              "    .dataframe tbody tr th:only-of-type {\n",
              "        vertical-align: middle;\n",
              "    }\n",
              "\n",
              "    .dataframe tbody tr th {\n",
              "        vertical-align: top;\n",
              "    }\n",
              "\n",
              "    .dataframe thead th {\n",
              "        text-align: right;\n",
              "    }\n",
              "</style>\n",
              "<table border=\"1\" class=\"dataframe\">\n",
              "  <thead>\n",
              "    <tr style=\"text-align: right;\">\n",
              "      <th></th>\n",
              "      <th>index</th>\n",
              "      <th>iid</th>\n",
              "      <th>est</th>\n",
              "      <th>movie_title</th>\n",
              "    </tr>\n",
              "  </thead>\n",
              "  <tbody>\n",
              "  </tbody>\n",
              "</table>\n",
              "</div>\n",
              "    <div class=\"colab-df-buttons\">\n",
              "\n",
              "  <div class=\"colab-df-container\">\n",
              "    <button class=\"colab-df-convert\" onclick=\"convertToInteractive('df-04557f01-c302-48a2-aa95-791cd33726c2')\"\n",
              "            title=\"Convert this dataframe to an interactive table.\"\n",
              "            style=\"display:none;\">\n",
              "\n",
              "  <svg xmlns=\"http://www.w3.org/2000/svg\" height=\"24px\" viewBox=\"0 -960 960 960\">\n",
              "    <path d=\"M120-120v-720h720v720H120Zm60-500h600v-160H180v160Zm220 220h160v-160H400v160Zm0 220h160v-160H400v160ZM180-400h160v-160H180v160Zm440 0h160v-160H620v160ZM180-180h160v-160H180v160Zm440 0h160v-160H620v160Z\"/>\n",
              "  </svg>\n",
              "    </button>\n",
              "\n",
              "  <style>\n",
              "    .colab-df-container {\n",
              "      display:flex;\n",
              "      gap: 12px;\n",
              "    }\n",
              "\n",
              "    .colab-df-convert {\n",
              "      background-color: #E8F0FE;\n",
              "      border: none;\n",
              "      border-radius: 50%;\n",
              "      cursor: pointer;\n",
              "      display: none;\n",
              "      fill: #1967D2;\n",
              "      height: 32px;\n",
              "      padding: 0 0 0 0;\n",
              "      width: 32px;\n",
              "    }\n",
              "\n",
              "    .colab-df-convert:hover {\n",
              "      background-color: #E2EBFA;\n",
              "      box-shadow: 0px 1px 2px rgba(60, 64, 67, 0.3), 0px 1px 3px 1px rgba(60, 64, 67, 0.15);\n",
              "      fill: #174EA6;\n",
              "    }\n",
              "\n",
              "    .colab-df-buttons div {\n",
              "      margin-bottom: 4px;\n",
              "    }\n",
              "\n",
              "    [theme=dark] .colab-df-convert {\n",
              "      background-color: #3B4455;\n",
              "      fill: #D2E3FC;\n",
              "    }\n",
              "\n",
              "    [theme=dark] .colab-df-convert:hover {\n",
              "      background-color: #434B5C;\n",
              "      box-shadow: 0px 1px 3px 1px rgba(0, 0, 0, 0.15);\n",
              "      filter: drop-shadow(0px 1px 2px rgba(0, 0, 0, 0.3));\n",
              "      fill: #FFFFFF;\n",
              "    }\n",
              "  </style>\n",
              "\n",
              "    <script>\n",
              "      const buttonEl =\n",
              "        document.querySelector('#df-04557f01-c302-48a2-aa95-791cd33726c2 button.colab-df-convert');\n",
              "      buttonEl.style.display =\n",
              "        google.colab.kernel.accessAllowed ? 'block' : 'none';\n",
              "\n",
              "      async function convertToInteractive(key) {\n",
              "        const element = document.querySelector('#df-04557f01-c302-48a2-aa95-791cd33726c2');\n",
              "        const dataTable =\n",
              "          await google.colab.kernel.invokeFunction('convertToInteractive',\n",
              "                                                    [key], {});\n",
              "        if (!dataTable) return;\n",
              "\n",
              "        const docLinkHtml = 'Like what you see? Visit the ' +\n",
              "          '<a target=\"_blank\" href=https://colab.research.google.com/notebooks/data_table.ipynb>data table notebook</a>'\n",
              "          + ' to learn more about interactive tables.';\n",
              "        element.innerHTML = '';\n",
              "        dataTable['output_type'] = 'display_data';\n",
              "        await google.colab.output.renderOutput(dataTable, element);\n",
              "        const docLink = document.createElement('div');\n",
              "        docLink.innerHTML = docLinkHtml;\n",
              "        element.appendChild(docLink);\n",
              "      }\n",
              "    </script>\n",
              "  </div>\n",
              "\n",
              "    </div>\n",
              "  </div>\n"
            ],
            "text/plain": [
              "Empty DataFrame\n",
              "Columns: [index, iid, est, movie_title]\n",
              "Index: []"
            ]
          },
          "execution_count": 41,
          "metadata": {},
          "output_type": "execute_result"
        }
      ],
      "source": [
        "def recomendaciones(user_id,n_recomend=10):\n",
        "\n",
        "    predictions_userID = predictions_df[predictions_df['uid'] == user_id].\\\n",
        "                    sort_values(by=\"est\", ascending = False).head(n_recomend)\n",
        "\n",
        "    recomendadas = predictions_userID[['iid','est']]\n",
        "    recomendadas.to_sql('reco',conn,if_exists=\"replace\")\n",
        "\n",
        "    recomendadas=pd.read_sql('''select a.*, b.movie_title\n",
        "                             from reco a left join movies_final b\n",
        "                             on a.iid=b.movie_id ''', conn)\n",
        "\n",
        "    return(recomendadas)\n",
        "\n",
        "\n",
        "\n",
        "recomendaciones(user_id=55490,n_recomend=10)"
      ]
    }
  ],
  "metadata": {
    "colab": {
      "provenance": []
    },
    "kernelspec": {
      "display_name": "Python 3",
      "name": "python3"
    },
    "language_info": {
      "codemirror_mode": {
        "name": "ipython",
        "version": 3
      },
      "file_extension": ".py",
      "mimetype": "text/x-python",
      "name": "python",
      "nbconvert_exporter": "python",
      "pygments_lexer": "ipython3",
      "version": "3.10.1"
    }
  },
  "nbformat": 4,
  "nbformat_minor": 0
}