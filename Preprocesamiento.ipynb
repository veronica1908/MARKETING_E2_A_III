{
  "nbformat": 4,
  "nbformat_minor": 0,
  "metadata": {
    "colab": {
      "provenance": [],
      "mount_file_id": "https://github.com/veronica1908/MARKETING_E2_A_III/blob/main/Preprocesamiento.ipynb",
      "authorship_tag": "ABX9TyPDu9aeJMPTsgAUrDMuDKhs",
      "include_colab_link": true
    },
    "kernelspec": {
      "name": "python3",
      "display_name": "Python 3"
    },
    "language_info": {
      "name": "python"
    }
  },
  "cells": [
    {
      "cell_type": "markdown",
      "metadata": {
        "id": "view-in-github",
        "colab_type": "text"
      },
      "source": [
        "<a href=\"https://colab.research.google.com/github/veronica1908/MARKETING_E2_A_III/blob/main/Preprocesamiento.ipynb\" target=\"_parent\"><img src=\"https://colab.research.google.com/assets/colab-badge.svg\" alt=\"Open In Colab\"/></a>"
      ]
    },
    {
      "cell_type": "code",
      "source": [
        "# Instalar la extensión ipython-sql\n",
        "!pip install -q ipython-sql\n",
        "\n",
        "# Cargar la extensión\n",
        "%load_ext sql\n",
        "\n",
        "# Instalar bibliotecas necesarias\n",
        "!pip install sqlalchemy\n",
        "!pip install mysql-connector-python\n",
        "\n",
        "# Importar bibliotecas\n",
        "import sqlite3\n",
        "from sqlalchemy import create_engine\n",
        "import pandas as pd\n"
      ],
      "metadata": {
        "colab": {
          "base_uri": "https://localhost:8080/"
        },
        "id": "V0o615IrEUoi",
        "outputId": "b9d6ca0d-905f-4a71-c302-7d4d8a08445e"
      },
      "execution_count": 1,
      "outputs": [
        {
          "output_type": "stream",
          "name": "stdout",
          "text": [
            "Requirement already satisfied: sqlalchemy in /usr/local/lib/python3.10/dist-packages (2.0.29)\n",
            "Requirement already satisfied: typing-extensions>=4.6.0 in /usr/local/lib/python3.10/dist-packages (from sqlalchemy) (4.10.0)\n",
            "Requirement already satisfied: greenlet!=0.4.17 in /usr/local/lib/python3.10/dist-packages (from sqlalchemy) (3.0.3)\n",
            "Requirement already satisfied: mysql-connector-python in /usr/local/lib/python3.10/dist-packages (8.3.0)\n"
          ]
        }
      ]
    },
    {
      "cell_type": "code",
      "source": [
        "# Conectarse a la base de datos\n",
        "conn = sqlite3.connect('db_movies')\n",
        "# Crear un cursor\n",
        "cur = conn.cursor()"
      ],
      "metadata": {
        "id": "EUAoeyyoEYm5"
      },
      "execution_count": 2,
      "outputs": []
    },
    {
      "cell_type": "code",
      "source": [
        "# Obtener información sobre las columnas de la tabla 'ratings'\n",
        "cur.execute(\"PRAGMA table_info(ratings)\")\n",
        "columns_ratings = cur.fetchall()\n",
        "\n",
        "# Imprimir el nombre de la columna y su tipo de datos para la tabla 'ratings'\n",
        "print(\"Tipos de datos de las columnas en la tabla 'ratings':\")\n",
        "for column in columns_ratings:\n",
        "    print(column[1] + \": \" + column[2])\n",
        "\n",
        "# Obtener información sobre las columnas de la tabla 'movies'\n",
        "cur.execute(\"PRAGMA table_info(movies)\")\n",
        "columns_movies = cur.fetchall()\n",
        "\n",
        "# Imprimir el nombre de la columna y su tipo de datos para la tabla 'movies'\n",
        "print(\"\\nTipos de datos de las columnas en la tabla 'movies':\")\n",
        "for column in columns_movies:\n",
        "    print(column[1] + \": \" + column[2])"
      ],
      "metadata": {
        "id": "H4RnSuqGghr5",
        "outputId": "1a0392fa-22d5-4ca9-ae5b-19b3cf3cfa42",
        "colab": {
          "base_uri": "https://localhost:8080/"
        }
      },
      "execution_count": 3,
      "outputs": [
        {
          "output_type": "stream",
          "name": "stdout",
          "text": [
            "Tipos de datos de las columnas en la tabla 'ratings':\n",
            "userId: INTEGER\n",
            "movieId: INTEGER\n",
            "rating: REAL\n",
            "timestamp: INTEGER\n",
            "\n",
            "Tipos de datos de las columnas en la tabla 'movies':\n",
            "movieId: INTEGER\n",
            "title: TEXT\n",
            "genres: TEXT\n",
            "year: INTEGER\n"
          ]
        }
      ]
    },
    {
      "cell_type": "markdown",
      "source": [
        "#Ajustes tabla movies"
      ],
      "metadata": {
        "id": "wrsXihUA3VZZ"
      }
    },
    {
      "cell_type": "code",
      "source": [
        "#Extraer el año de lanzamiento de la película en la tabla movies, el cual está incluido en el título de película\n",
        "#Agregar una nueva columna para almacenar el año\n",
        "\n",
        "conn = sqlite3.connect('db_movies')\n",
        "cursor = conn.cursor()\n",
        "\n",
        "# Verificar si la columna 'year' ya existe en la tabla 'movies'\n",
        "cursor.execute(\"PRAGMA table_info(movies)\")\n",
        "columns = cursor.fetchall()\n",
        "column_names = [col[1] for col in columns]\n",
        "if 'year' not in column_names:\n",
        "    # Si no existe, agregar la nueva columna\n",
        "    cursor.execute(\"ALTER TABLE movies ADD COLUMN year INTEGER\")\n",
        "\n",
        "# Actualizar la nueva columna con el año extraído del título de la película\n",
        "cursor.execute(\"\"\"\n",
        "    UPDATE movies\n",
        "    SET year = CAST(SUBSTR(title, -5, 4) AS INTEGER)\n",
        "\"\"\")\n",
        "\n",
        "# Confirmar los cambios y cerrar la conexión\n",
        "conn.commit()\n",
        "conn.close()"
      ],
      "metadata": {
        "id": "vLPXhC7tnNxM"
      },
      "execution_count": 4,
      "outputs": []
    },
    {
      "cell_type": "code",
      "source": [
        "conn = sqlite3.connect('db_movies')\n",
        "cursor = conn.cursor()\n",
        "\n",
        "# Verificar las columnas de la tabla 'movies'\n",
        "\n",
        "# Obtener información sobre las columnas de la tabla 'movies'\n",
        "cursor.execute(\"PRAGMA table_info(movies)\")\n",
        "columns_info = cursor.fetchall()\n",
        "\n",
        "# Imprimir el nombre de la columna y su tipo de datos\n",
        "for column in columns_info:\n",
        "    print(column[1], \"-\", column[2])\n",
        "\n",
        "# Cerrar la conexión a la base de datos\n",
        "conn.close()"
      ],
      "metadata": {
        "id": "4ZNzfQt2oamk",
        "outputId": "a85b471a-eef0-45b2-df8f-b893a1178d4c",
        "colab": {
          "base_uri": "https://localhost:8080/"
        }
      },
      "execution_count": 5,
      "outputs": [
        {
          "output_type": "stream",
          "name": "stdout",
          "text": [
            "movieId - INTEGER\n",
            "title - TEXT\n",
            "genres - TEXT\n",
            "year - INTEGER\n"
          ]
        }
      ]
    },
    {
      "cell_type": "code",
      "source": [
        "from google.colab import drive\n",
        "drive.mount('/content/drive')"
      ],
      "metadata": {
        "id": "2OmaSv9F6Wwh",
        "outputId": "a6a88055-1b7c-48c5-ecd4-90c4a616413c",
        "colab": {
          "base_uri": "https://localhost:8080/"
        }
      },
      "execution_count": 6,
      "outputs": [
        {
          "output_type": "stream",
          "name": "stdout",
          "text": [
            "Drive already mounted at /content/drive; to attempt to forcibly remount, call drive.mount(\"/content/drive\", force_remount=True).\n"
          ]
        }
      ]
    },
    {
      "cell_type": "markdown",
      "source": [
        "#Ajustes en la tabla ratings"
      ],
      "metadata": {
        "id": "97eY5pJP3bQg"
      }
    },
    {
      "cell_type": "code",
      "source": [
        "# verificamos el contenido de las primeras filas de la tabla ratings\n",
        "conn = sqlite3.connect('db_movies')\n",
        "\n",
        "query = \"SELECT * FROM ratings LIMIT 5\"\n",
        "\n",
        "# Ejecutar la consulta y cargar los resultados en un DataFrame de Pandas\n",
        "ratings = pd.read_sql(query, conn)\n",
        "\n",
        "# Mostrar las primeras filas del DataFrame\n",
        "print(ratings)\n",
        "conn.close()"
      ],
      "metadata": {
        "id": "qpGhDr2ZTrdh",
        "outputId": "31aafdde-cd2c-49b0-d398-984cf23af1f7",
        "colab": {
          "base_uri": "https://localhost:8080/"
        }
      },
      "execution_count": 7,
      "outputs": [
        {
          "output_type": "stream",
          "name": "stdout",
          "text": [
            "   userId  movieId  rating  timestamp\n",
            "0       1        1     4.0  964982703\n",
            "1       1        3     4.0  964981247\n",
            "2       1        6     4.0  964982224\n",
            "3       1       47     5.0  964983815\n",
            "4       1       50     5.0  964982931\n"
          ]
        }
      ]
    },
    {
      "cell_type": "markdown",
      "source": [
        "#Creación de nuevas tablas"
      ],
      "metadata": {
        "id": "Bv6STEq93kfY"
      }
    },
    {
      "cell_type": "code",
      "source": [
        "conn = sqlite3.connect('db_movies')\n",
        "\n",
        "# Crear tabla con usuarios con más de 50 películas vistas\n",
        "query = \"\"\"\n",
        "    DROP TABLE IF EXISTS usuarios_sel;\n",
        "    CREATE TABLE usuarios_sel AS\n",
        "    SELECT \"userId\" AS user_id, COUNT(*) AS cnt_rat\n",
        "    FROM ratings\n",
        "    GROUP BY \"userId\"\n",
        "    HAVING cnt_rat > 50\n",
        "    ORDER BY cnt_rat DESC;\n",
        "\"\"\"\n",
        "\n",
        "# Ejecutar la consulta\n",
        "conn.executescript(query)\n",
        "\n",
        "conn = sqlite3.connect('db_movies')\n",
        "query = \"SELECT * FROM usuarios_sel LIMIT 5\"\n",
        "# Ejecutar la consulta y cargar los resultados en un DataFrame de Pandas\n",
        "usuarios_sel = pd.read_sql(query, conn)\n",
        "\n",
        "# Mostrar las primeras filas del DataFrame\n",
        "print(usuarios_sel)\n",
        "\n",
        "conn.close()"
      ],
      "metadata": {
        "id": "8ZkUqUGXDK7R",
        "outputId": "c6eaeae9-7e76-4be9-ebc2-e8530dddf4d4",
        "colab": {
          "base_uri": "https://localhost:8080/"
        }
      },
      "execution_count": 8,
      "outputs": [
        {
          "output_type": "stream",
          "name": "stdout",
          "text": [
            "   user_id  cnt_rat\n",
            "0      414     2698\n",
            "1      599     2478\n",
            "2      474     2108\n",
            "3      448     1864\n",
            "4      274     1346\n"
          ]
        }
      ]
    },
    {
      "cell_type": "code",
      "source": [
        "# Crear tabla con películas que han sido calificadas por más de 50 usuarios\n",
        "conn = sqlite3.connect('db_movies')\n",
        "\n",
        "query = \"\"\"\n",
        "DROP TABLE IF EXISTS movies_sel;\n",
        "\n",
        "CREATE TABLE movies_sel AS\n",
        "SELECT \"movieId\",\n",
        "       COUNT(*) AS cnt_rat\n",
        "FROM ratings\n",
        "GROUP BY \"movieId\"\n",
        "HAVING cnt_rat > 50\n",
        "ORDER BY cnt_rat DESC;\n",
        "\"\"\"\n",
        "\n",
        "# Ejecutar la consulta\n",
        "conn.executescript(query)\n",
        "conn.close()\n",
        "\n",
        "conn = sqlite3.connect('db_movies')\n",
        "query = \"SELECT * FROM movies_sel LIMIT 5\"\n",
        "# Ejecutar la consulta y cargar los resultados en un DataFrame de Pandas\n",
        "movies_sel = pd.read_sql(query, conn)\n",
        "\n",
        "# Mostrar las primeras filas del DataFrame\n",
        "print(movies_sel)\n",
        "\n",
        "conn.close()"
      ],
      "metadata": {
        "id": "vYY1g_MjFvN9",
        "outputId": "67790414-e10d-4dbf-a60c-f10971c29dba",
        "colab": {
          "base_uri": "https://localhost:8080/"
        }
      },
      "execution_count": 9,
      "outputs": [
        {
          "output_type": "stream",
          "name": "stdout",
          "text": [
            "   movieId  cnt_rat\n",
            "0      356      329\n",
            "1      318      317\n",
            "2      296      307\n",
            "3      593      279\n",
            "4     2571      278\n"
          ]
        }
      ]
    },
    {
      "cell_type": "code",
      "source": [
        "# Crear tablas filtradas de calificaciones con usuarios y películas\n",
        "##ratings_final\n",
        "conn = sqlite3.connect('db_movies')\n",
        "\n",
        "query = \"\"\"\n",
        "DROP TABLE IF EXISTS ratings_final;\n",
        "\n",
        "CREATE TABLE ratings_final AS\n",
        "SELECT a.\"userId\" AS user_id,\n",
        "       a.\"movieId\" AS movie_id,\n",
        "       a.\"rating\" AS rating\n",
        "FROM ratings a\n",
        "INNER JOIN movies_sel b ON a.movieId = b.movieId\n",
        "INNER JOIN usuarios_sel c ON a.\"userId\" = c.user_id;\n",
        "\"\"\"\n",
        "conn.executescript(query)\n",
        "conn.close()\n",
        "\n",
        "conn = sqlite3.connect('db_movies')\n",
        "query = \"SELECT * FROM ratings_final LIMIT 5\"\n",
        "# Ejecutar la consulta y cargar los resultados en un DataFrame de Pandas\n",
        "ratings_final = pd.read_sql(query, conn)\n",
        "\n",
        "# Mostrar las primeras filas del DataFrame\n",
        "print(ratings_final)\n",
        "conn.close()"
      ],
      "metadata": {
        "id": "77ryWF1UGbX5",
        "outputId": "41e8f343-0e67-4b84-a6ed-18df5ffbd21b",
        "colab": {
          "base_uri": "https://localhost:8080/"
        }
      },
      "execution_count": 10,
      "outputs": [
        {
          "output_type": "stream",
          "name": "stdout",
          "text": [
            "   user_id  movie_id  rating\n",
            "0        1         1     4.0\n",
            "1        1         3     4.0\n",
            "2        1         6     4.0\n",
            "3        1        47     5.0\n",
            "4        1        50     5.0\n"
          ]
        }
      ]
    },
    {
      "cell_type": "code",
      "source": [
        "##movies_final\n",
        "# Establecer conexión a la base de datos\n",
        "conn = sqlite3.connect('db_movies')\n",
        "\n",
        "# Definir la consulta SQL para crear la tabla movies_final\n",
        "query = \"\"\"\n",
        "DROP TABLE IF EXISTS movies_final;\n",
        "\n",
        "CREATE TABLE movies_final AS\n",
        "SELECT a.movieId AS movie_id,\n",
        "       a.title AS movie_title,\n",
        "       a.genres,\n",
        "       a.year\n",
        "FROM movies a\n",
        "INNER JOIN movies_sel c ON a.movieId = c.movieId;\n",
        "\"\"\"\n",
        "\n",
        "# Ejecutar la consulta\n",
        "conn.executescript(query)\n",
        "\n",
        "# Cerrar la conexión a la base de datos\n",
        "conn.close()\n",
        "\n",
        "conn = sqlite3.connect('db_movies')\n",
        "query = \"SELECT * FROM movies_final LIMIT 5\"\n",
        "# Ejecutar la consulta y cargar los resultados en un DataFrame de Pandas\n",
        "movies_final = pd.read_sql(query, conn)\n",
        "\n",
        "# Mostrar las primeras filas del DataFrame\n",
        "print(movies_final)\n",
        "conn.close()"
      ],
      "metadata": {
        "id": "fEcmfPLfjKme",
        "outputId": "3dde9d9e-b837-4a89-902d-7de66674d224",
        "colab": {
          "base_uri": "https://localhost:8080/"
        }
      },
      "execution_count": 11,
      "outputs": [
        {
          "output_type": "stream",
          "name": "stdout",
          "text": [
            "   movie_id              movie_title  \\\n",
            "0         1         Toy Story (1995)   \n",
            "1         2           Jumanji (1995)   \n",
            "2         3  Grumpier Old Men (1995)   \n",
            "3         6              Heat (1995)   \n",
            "4         7           Sabrina (1995)   \n",
            "\n",
            "                                        genres  year  \n",
            "0  Adventure|Animation|Children|Comedy|Fantasy  1995  \n",
            "1                   Adventure|Children|Fantasy  1995  \n",
            "2                               Comedy|Romance  1995  \n",
            "3                        Action|Crime|Thriller  1995  \n",
            "4                               Comedy|Romance  1995  \n"
          ]
        }
      ]
    },
    {
      "cell_type": "code",
      "source": [
        "# Conectarse a la base de datos\n",
        "conn = sqlite3.connect('db_movies')\n",
        "cursor = conn.cursor()\n",
        "\n",
        "# Script SQL\n",
        "script = \"\"\"\n",
        "DROP TABLE IF EXISTS full_ratings;\n",
        "\n",
        "CREATE TABLE full_ratings AS\n",
        "SELECT a.*,\n",
        "       c.movie_title,\n",
        "       c.genres\n",
        "FROM ratings_final a\n",
        "INNER JOIN movies_final c ON a.movie_id = c.movie_id;\n",
        "\"\"\"\n",
        "\n",
        "# Ejecutar el script SQL\n",
        "cursor.executescript(script)\n",
        "\n",
        "# Confirmar los cambios y cerrar la conexión\n",
        "conn.commit()\n",
        "conn.close()\n",
        "\n",
        "print(\"Tabla 'full_ratings' creada con éxito.\")"
      ],
      "metadata": {
        "id": "RCnWmZMa8gN7",
        "outputId": "2c86495f-9d7b-46b7-c55f-2b6d930ca213",
        "colab": {
          "base_uri": "https://localhost:8080/"
        }
      },
      "execution_count": 17,
      "outputs": [
        {
          "output_type": "stream",
          "name": "stdout",
          "text": [
            "Tabla 'full_ratings' creada con éxito.\n"
          ]
        }
      ]
    },
    {
      "cell_type": "code",
      "source": [
        "# Consulta SQL para seleccionar las primeras filas de la tabla full_ratings\n",
        "conn = sqlite3.connect('db_movies')\n",
        "\n",
        "query = \"SELECT * FROM full_ratings LIMIT 5\"\n",
        "\n",
        "# Ejecutar la consulta y cargar los resultados en un DataFrame de Pandas\n",
        "full_ratings = pd.read_sql(query, conn)\n",
        "\n",
        "# Mostrar las primeras filas del DataFrame\n",
        "print(full_ratings)"
      ],
      "metadata": {
        "id": "J01ihBJ571xc",
        "outputId": "5cec3304-f5a7-4a26-c496-19e2d95130e2",
        "colab": {
          "base_uri": "https://localhost:8080/"
        }
      },
      "execution_count": 18,
      "outputs": [
        {
          "output_type": "stream",
          "name": "stdout",
          "text": [
            "   user_id  movie_id  rating                  movie_title  \\\n",
            "0        1         1     4.0             Toy Story (1995)   \n",
            "1        1         3     4.0      Grumpier Old Men (1995)   \n",
            "2        1         6     4.0                  Heat (1995)   \n",
            "3        1        47     5.0  Seven (a.k.a. Se7en) (1995)   \n",
            "4        1        50     5.0   Usual Suspects, The (1995)   \n",
            "\n",
            "                                        genres  \n",
            "0  Adventure|Animation|Children|Comedy|Fantasy  \n",
            "1                               Comedy|Romance  \n",
            "2                        Action|Crime|Thriller  \n",
            "3                             Mystery|Thriller  \n",
            "4                       Crime|Mystery|Thriller  \n"
          ]
        }
      ]
    },
    {
      "cell_type": "markdown",
      "source": [
        "# Exportar la tabla preprocesada en SQL"
      ],
      "metadata": {
        "id": "HbK4YD00KKLJ"
      }
    },
    {
      "cell_type": "code",
      "source": [
        "# Consulta SQL para seleccionar todos los datos de la tabla full_ratings\n",
        "query = \"SELECT * FROM full_ratings\"\n",
        "\n",
        "# Leer los datos en un DataFrame de pandas\n",
        "df = pd.read_sql_query(query, conn)\n",
        "\n",
        "# Guardar el DataFrame como un archivo CSV\n",
        "df.to_csv('full_ratings.csv', index=False)\n",
        "\n",
        "print(\"La tabla 'full_ratings' se ha exportado como full_ratings.csv\")\n",
        "\n",
        "# Cerrar la conexión\n",
        "conn.close()"
      ],
      "metadata": {
        "id": "d-n-CdNLKRCY",
        "outputId": "da3e6fff-9ce9-426e-c527-43fa04e5d660",
        "colab": {
          "base_uri": "https://localhost:8080/"
        }
      },
      "execution_count": 19,
      "outputs": [
        {
          "output_type": "stream",
          "name": "stdout",
          "text": [
            "La tabla 'full_ratings' se ha exportado como full_ratings.csv\n"
          ]
        }
      ]
    },
    {
      "cell_type": "code",
      "source": [
        "#Verificar tablas creadas en el script\n",
        "# Conectarse a la base de datos\n",
        "conn = sqlite3.connect('db_movies')\n",
        "\n",
        "# Crear un cursor\n",
        "cur = conn.cursor()\n",
        "\n",
        "# Obtener una lista de tablas en la base de datos\n",
        "cur.execute(\"SELECT name FROM sqlite_master WHERE type='table';\")\n",
        "tables = cur.fetchall()\n",
        "\n",
        "# Imprimir los nombres de las tablas para verificar la información\n",
        "for table in tables:\n",
        "    print(table[0])"
      ],
      "metadata": {
        "id": "ff9jWWq8KeAo",
        "outputId": "f63b1a32-4168-4ac3-cd80-1dfcb29b1c25",
        "colab": {
          "base_uri": "https://localhost:8080/"
        }
      },
      "execution_count": 20,
      "outputs": [
        {
          "output_type": "stream",
          "name": "stdout",
          "text": [
            "ratings\n",
            "movies\n",
            "usuarios_sel\n",
            "movies_sel\n",
            "ratings_final\n",
            "movies_final\n",
            "full_ratings\n"
          ]
        }
      ]
    }
  ]
}