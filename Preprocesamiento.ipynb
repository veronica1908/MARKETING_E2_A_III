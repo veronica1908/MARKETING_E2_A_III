{
  "nbformat": 4,
  "nbformat_minor": 0,
  "metadata": {
    "colab": {
      "provenance": [],
      "authorship_tag": "ABX9TyOxViVcOh+UHsNX70smnDLG",
      "include_colab_link": true
    },
    "kernelspec": {
      "name": "python3",
      "display_name": "Python 3"
    },
    "language_info": {
      "name": "python"
    }
  },
  "cells": [
    {
      "cell_type": "markdown",
      "metadata": {
        "id": "view-in-github",
        "colab_type": "text"
      },
      "source": [
        "<a href=\"https://colab.research.google.com/github/veronica1908/MARKETING_E2_A_III/blob/main/Preprocesamiento.ipynb\" target=\"_parent\"><img src=\"https://colab.research.google.com/assets/colab-badge.svg\" alt=\"Open In Colab\"/></a>"
      ]
    },
    {
      "cell_type": "code",
      "source": [
        "# Instalar la extensión ipython-sql\n",
        "!pip install -q ipython-sql\n",
        "\n",
        "# Cargar la extensión\n",
        "%load_ext sql\n",
        "\n",
        "# Instalar bibliotecas necesarias\n",
        "!pip install sqlalchemy\n",
        "!pip install mysql-connector-python\n",
        "\n",
        "# Importar bibliotecas\n",
        "import sqlite3\n",
        "from sqlalchemy import create_engine\n",
        "import pandas as pd"
      ],
      "metadata": {
        "colab": {
          "base_uri": "https://localhost:8080/"
        },
        "id": "V0o615IrEUoi",
        "outputId": "82e94d6c-03f3-4fac-8132-616873374975"
      },
      "execution_count": 53,
      "outputs": [
        {
          "output_type": "stream",
          "name": "stdout",
          "text": [
            "The sql extension is already loaded. To reload it, use:\n",
            "  %reload_ext sql\n",
            "Requirement already satisfied: sqlalchemy in /usr/local/lib/python3.10/dist-packages (2.0.29)\n",
            "Requirement already satisfied: typing-extensions>=4.6.0 in /usr/local/lib/python3.10/dist-packages (from sqlalchemy) (4.10.0)\n",
            "Requirement already satisfied: greenlet!=0.4.17 in /usr/local/lib/python3.10/dist-packages (from sqlalchemy) (3.0.3)\n",
            "Requirement already satisfied: mysql-connector-python in /usr/local/lib/python3.10/dist-packages (8.3.0)\n"
          ]
        }
      ]
    },
    {
      "cell_type": "code",
      "source": [
        "# Conectarse a la base de datos\n",
        "conn = sqlite3.connect('db_movies')\n",
        "# Crear un cursor\n",
        "cur = conn.cursor()"
      ],
      "metadata": {
        "id": "EUAoeyyoEYm5"
      },
      "execution_count": 54,
      "outputs": []
    },
    {
      "cell_type": "code",
      "source": [
        "# Obtener información sobre las columnas de la tabla 'ratings'\n",
        "cur.execute(\"PRAGMA table_info(ratings)\")\n",
        "columns_ratings = cur.fetchall()\n",
        "\n",
        "# Imprimir el nombre de la columna y su tipo de datos para la tabla 'ratings'\n",
        "print(\"Tipos de datos de las columnas en la tabla 'ratings':\")\n",
        "for column in columns_ratings:\n",
        "    print(column[1] + \": \" + column[2])\n",
        "\n",
        "# Obtener información sobre las columnas de la tabla 'movies'\n",
        "cur.execute(\"PRAGMA table_info(movies)\")\n",
        "columns_movies = cur.fetchall()\n",
        "\n",
        "# Imprimir el nombre de la columna y su tipo de datos para la tabla 'movies'\n",
        "print(\"\\nTipos de datos de las columnas en la tabla 'movies':\")\n",
        "for column in columns_movies:\n",
        "    print(column[1] + \": \" + column[2])"
      ],
      "metadata": {
        "id": "H4RnSuqGghr5",
        "outputId": "f9821a04-5049-4133-f28b-fc0a4f1cba26",
        "colab": {
          "base_uri": "https://localhost:8080/"
        }
      },
      "execution_count": 55,
      "outputs": [
        {
          "output_type": "stream",
          "name": "stdout",
          "text": [
            "Tipos de datos de las columnas en la tabla 'ratings':\n",
            "userId: INTEGER\n",
            "movieId: INTEGER\n",
            "rating: REAL\n",
            "timestamp: INTEGER\n",
            "\n",
            "Tipos de datos de las columnas en la tabla 'movies':\n",
            "movieId: INTEGER\n",
            "title: TEXT\n",
            "genres: TEXT\n"
          ]
        }
      ]
    },
    {
      "cell_type": "code",
      "source": [
        "# Crear tabla con usuarios con más de 50 películas vistas y menos de 1000\n",
        "query = \"\"\"\n",
        "    DROP TABLE IF EXISTS usuarios_sel;\n",
        "    CREATE TABLE usuarios_sel AS\n",
        "    SELECT \"userId\" AS user_id, COUNT(*) AS cnt_rat\n",
        "    FROM ratings\n",
        "    GROUP BY \"userId\"\n",
        "    HAVING cnt_rat > 50 AND cnt_rat <= 1000\n",
        "    ORDER BY cnt_rat DESC;\n",
        "\"\"\"\n",
        "\n",
        "# Ejecutar la consulta\n",
        "conn.executescript(query)\n",
        "# Cerrar la conexión\n",
        "conn.close()"
      ],
      "metadata": {
        "id": "8ZkUqUGXDK7R"
      },
      "execution_count": 56,
      "outputs": []
    },
    {
      "cell_type": "code",
      "source": [
        "# Crear tabla con películas que han sido calificadas por más de 50 usuarios\n",
        "conn = sqlite3.connect('db_movies')\n",
        "\n",
        "query = \"\"\"\n",
        "DROP TABLE IF EXISTS movies_sel;\n",
        "\n",
        "CREATE TABLE movies_sel AS\n",
        "SELECT \"movieId\",\n",
        "       COUNT(*) AS cnt_rat\n",
        "FROM ratings\n",
        "GROUP BY \"movieId\"\n",
        "HAVING cnt_rat > 50\n",
        "ORDER BY cnt_rat DESC;\n",
        "\"\"\"\n",
        "\n",
        "# Ejecutar la consulta\n",
        "conn.executescript(query)\n",
        "\n",
        "conn.close()"
      ],
      "metadata": {
        "id": "vYY1g_MjFvN9"
      },
      "execution_count": 57,
      "outputs": []
    },
    {
      "cell_type": "code",
      "source": [
        "# Crear tablas filtradas de calificaciones con usuarios y películas\n",
        "##ratings_final\n",
        "conn = sqlite3.connect('db_movies')\n",
        "\n",
        "query = \"\"\"\n",
        "DROP TABLE IF EXISTS ratings_final;\n",
        "\n",
        "CREATE TABLE ratings_final AS\n",
        "SELECT a.\"userId\" AS user_id,\n",
        "       a.\"movieId\" AS movie_id,\n",
        "       a.\"rating\" AS rating\n",
        "FROM ratings a\n",
        "INNER JOIN movies_sel b ON a.movieId = b.movieId\n",
        "INNER JOIN usuarios_sel c ON a.\"userId\" = c.user_id;\n",
        "\"\"\"\n",
        "conn.executescript(query)\n",
        "conn.close()"
      ],
      "metadata": {
        "id": "77ryWF1UGbX5"
      },
      "execution_count": 62,
      "outputs": []
    },
    {
      "cell_type": "code",
      "source": [
        "##movies_final\n",
        "# Establecer conexión a la base de datos\n",
        "conn = sqlite3.connect('db_movies')\n",
        "\n",
        "# Definir la consulta SQL para crear la tabla movies_final\n",
        "query = \"\"\"\n",
        "DROP TABLE IF EXISTS movies_final;\n",
        "\n",
        "CREATE TABLE movies_final AS\n",
        "SELECT a.movieId AS movie_id,\n",
        "       a.title AS movie_title,\n",
        "       a.genres AS genres\n",
        "FROM movies a\n",
        "INNER JOIN movies_sel c ON a.movieId = c.movieId;\n",
        "\"\"\"\n",
        "\n",
        "# Ejecutar la consulta\n",
        "conn.executescript(query)\n",
        "\n",
        "# Cerrar la conexión a la base de datos\n",
        "conn.close()"
      ],
      "metadata": {
        "id": "fEcmfPLfjKme"
      },
      "execution_count": 72,
      "outputs": []
    },
    {
      "cell_type": "code",
      "execution_count": 83,
      "metadata": {
        "colab": {
          "base_uri": "https://localhost:8080/"
        },
        "id": "7GVBstjRCvnL",
        "outputId": "f57e6f7e-2279-4a24-97a7-e96edc83d32e"
      },
      "outputs": [
        {
          "output_type": "stream",
          "name": "stdout",
          "text": [
            "Tabla 'full_ratings' creada con éxito.\n"
          ]
        }
      ],
      "source": [
        "conn = sqlite3.connect('db_movies')\n",
        "cursor = conn.cursor()\n",
        "\n",
        "# Script SQL\n",
        "script = \"\"\"\n",
        "DROP TABLE IF EXISTS full_ratings;\n",
        "\n",
        "CREATE TABLE full_ratings AS\n",
        "SELECT a.*,\n",
        "       c.movie_title,\n",
        "       c.genres\n",
        "FROM ratings_final a\n",
        "INNER JOIN movies_final c ON a.movie_id = c.movie_id;\n",
        "\"\"\"\n",
        "\n",
        "# Ejecutar el script SQL\n",
        "conn.executescript(script)\n",
        "\n",
        "# Confirmar los cambios y cerrar la conexión\n",
        "conn.commit()\n",
        "conn.close()\n",
        "\n",
        "print(\"Tabla 'full_ratings' creada con éxito.\")\n",
        "\n",
        "conn.close()"
      ]
    },
    {
      "cell_type": "code",
      "source": [
        "# Consulta SQL para seleccionar las primeras filas de la tabla full_ratings\n",
        "conn = sqlite3.connect('db_movies')\n",
        "\n",
        "query = \"SELECT * FROM full_ratings LIMIT 5\"  # Cambia el número de filas según tus necesidades\n",
        "\n",
        "# Ejecutar la consulta y cargar los resultados en un DataFrame de Pandas\n",
        "full_ratings = pd.read_sql(query, conn)\n",
        "\n",
        "# Mostrar las primeras filas del DataFrame\n",
        "print(full_ratings)"
      ],
      "metadata": {
        "id": "FOLmlkADlb_c",
        "outputId": "526d07d2-dc22-4349-e0df-a39fa9900048",
        "colab": {
          "base_uri": "https://localhost:8080/"
        }
      },
      "execution_count": 84,
      "outputs": [
        {
          "output_type": "stream",
          "name": "stdout",
          "text": [
            "   user_id  movie_id  rating                  movie_title  \\\n",
            "0        1         1     4.0             Toy Story (1995)   \n",
            "1        1         3     4.0      Grumpier Old Men (1995)   \n",
            "2        1         6     4.0                  Heat (1995)   \n",
            "3        1        47     5.0  Seven (a.k.a. Se7en) (1995)   \n",
            "4        1        50     5.0   Usual Suspects, The (1995)   \n",
            "\n",
            "                                        genres  \n",
            "0  Adventure|Animation|Children|Comedy|Fantasy  \n",
            "1                               Comedy|Romance  \n",
            "2                        Action|Crime|Thriller  \n",
            "3                             Mystery|Thriller  \n",
            "4                       Crime|Mystery|Thriller  \n"
          ]
        }
      ]
    },
    {
      "cell_type": "markdown",
      "source": [
        "# Exportar la tabla preprocesada en SQL"
      ],
      "metadata": {
        "id": "HbK4YD00KKLJ"
      }
    },
    {
      "cell_type": "code",
      "source": [
        "# Consulta SQL para seleccionar todos los datos de la tabla full_ratings\n",
        "query = \"SELECT * FROM full_ratings\"\n",
        "\n",
        "# Leer los datos en un DataFrame de pandas\n",
        "df = pd.read_sql_query(query, conn)\n",
        "\n",
        "# Guardar el DataFrame como un archivo CSV\n",
        "df.to_csv('full_ratings.csv', index=False)\n",
        "\n",
        "print(\"La tabla 'full_ratings' se ha exportado como full_ratings.csv\")"
      ],
      "metadata": {
        "colab": {
          "base_uri": "https://localhost:8080/"
        },
        "id": "d-n-CdNLKRCY",
        "outputId": "eefb8a18-5d5b-495a-a1ec-09cae9aa2095"
      },
      "execution_count": 85,
      "outputs": [
        {
          "output_type": "stream",
          "name": "stdout",
          "text": [
            "La tabla 'full_ratings' se ha exportado como full_ratings.csv\n"
          ]
        }
      ]
    },
    {
      "cell_type": "code",
      "source": [
        "# Cerrar la conexión\n",
        "conn.close()"
      ],
      "metadata": {
        "id": "oD55dF5oakti"
      },
      "execution_count": 86,
      "outputs": []
    },
    {
      "cell_type": "code",
      "source": [
        "from google.colab import files\n",
        "\n",
        "files.download('full_ratings.csv')\n",
        "##Esta tabla se utilizará en la fase de modelos."
      ],
      "metadata": {
        "colab": {
          "base_uri": "https://localhost:8080/",
          "height": 17
        },
        "id": "ff9jWWq8KeAo",
        "outputId": "1dbe7519-d14b-4b1a-9f6f-6f43119d55ae"
      },
      "execution_count": 87,
      "outputs": [
        {
          "output_type": "display_data",
          "data": {
            "text/plain": [
              "<IPython.core.display.Javascript object>"
            ],
            "application/javascript": [
              "\n",
              "    async function download(id, filename, size) {\n",
              "      if (!google.colab.kernel.accessAllowed) {\n",
              "        return;\n",
              "      }\n",
              "      const div = document.createElement('div');\n",
              "      const label = document.createElement('label');\n",
              "      label.textContent = `Downloading \"${filename}\": `;\n",
              "      div.appendChild(label);\n",
              "      const progress = document.createElement('progress');\n",
              "      progress.max = size;\n",
              "      div.appendChild(progress);\n",
              "      document.body.appendChild(div);\n",
              "\n",
              "      const buffers = [];\n",
              "      let downloaded = 0;\n",
              "\n",
              "      const channel = await google.colab.kernel.comms.open(id);\n",
              "      // Send a message to notify the kernel that we're ready.\n",
              "      channel.send({})\n",
              "\n",
              "      for await (const message of channel.messages) {\n",
              "        // Send a message to notify the kernel that we're ready.\n",
              "        channel.send({})\n",
              "        if (message.buffers) {\n",
              "          for (const buffer of message.buffers) {\n",
              "            buffers.push(buffer);\n",
              "            downloaded += buffer.byteLength;\n",
              "            progress.value = downloaded;\n",
              "          }\n",
              "        }\n",
              "      }\n",
              "      const blob = new Blob(buffers, {type: 'application/binary'});\n",
              "      const a = document.createElement('a');\n",
              "      a.href = window.URL.createObjectURL(blob);\n",
              "      a.download = filename;\n",
              "      div.appendChild(a);\n",
              "      a.click();\n",
              "      div.remove();\n",
              "    }\n",
              "  "
            ]
          },
          "metadata": {}
        },
        {
          "output_type": "display_data",
          "data": {
            "text/plain": [
              "<IPython.core.display.Javascript object>"
            ],
            "application/javascript": [
              "download(\"download_4a6cae7c-2c8d-4968-809c-331f9ac81d65\", \"full_ratings.csv\", 2009297)"
            ]
          },
          "metadata": {}
        }
      ]
    }
  ]
}