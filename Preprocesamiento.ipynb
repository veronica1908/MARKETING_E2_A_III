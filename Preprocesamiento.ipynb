{
  "nbformat": 4,
  "nbformat_minor": 0,
  "metadata": {
    "colab": {
      "provenance": [],
      "mount_file_id": "https://github.com/veronica1908/MARKETING_E2_A_III/blob/main/Preprocesamiento.ipynb",
      "authorship_tag": "ABX9TyN4gMVqwzXIYNQtzq7owH7X",
      "include_colab_link": true
    },
    "kernelspec": {
      "name": "python3",
      "display_name": "Python 3"
    },
    "language_info": {
      "name": "python"
    }
  },
  "cells": [
    {
      "cell_type": "markdown",
      "metadata": {
        "id": "view-in-github",
        "colab_type": "text"
      },
      "source": [
        "<a href=\"https://colab.research.google.com/github/veronica1908/MARKETING_E2_A_III/blob/main/Preprocesamiento.ipynb\" target=\"_parent\"><img src=\"https://colab.research.google.com/assets/colab-badge.svg\" alt=\"Open In Colab\"/></a>"
      ]
    },
    {
      "cell_type": "code",
      "source": [
        "# Instalar la extensión ipython-sql\n",
        "!pip install -q ipython-sql\n",
        "\n",
        "# Cargar la extensión\n",
        "%load_ext sql\n",
        "\n",
        "# Instalar bibliotecas necesarias\n",
        "!pip install sqlalchemy\n",
        "!pip install mysql-connector-python\n",
        "\n",
        "# Importar bibliotecas\n",
        "import sqlite3\n",
        "from sqlalchemy import create_engine\n",
        "import pandas as pd\n"
      ],
      "metadata": {
        "colab": {
          "base_uri": "https://localhost:8080/"
        },
        "id": "V0o615IrEUoi",
        "outputId": "69a4d83d-1a1f-476a-9cc3-2085fc27492c"
      },
      "execution_count": 15,
      "outputs": [
        {
          "metadata": {
            "tags": null
          },
          "name": "stdout",
          "output_type": "stream",
          "text": [
            "The sql extension is already loaded. To reload it, use:\n",
            "  %reload_ext sql\n",
            "Requirement already satisfied: sqlalchemy in /usr/local/lib/python3.10/dist-packages (2.0.29)\n",
            "Requirement already satisfied: typing-extensions>=4.6.0 in /usr/local/lib/python3.10/dist-packages (from sqlalchemy) (4.10.0)\n",
            "Requirement already satisfied: greenlet!=0.4.17 in /usr/local/lib/python3.10/dist-packages (from sqlalchemy) (3.0.3)\n",
            "Requirement already satisfied: mysql-connector-python in /usr/local/lib/python3.10/dist-packages (8.3.0)\n"
          ]
        }
      ]
    },
    {
      "cell_type": "code",
      "source": [
        "# Conectarse a la base de datos\n",
        "conn = sqlite3.connect('db_movies')\n",
        "# Crear un cursor\n",
        "cur = conn.cursor()"
      ],
      "metadata": {
        "id": "EUAoeyyoEYm5"
      },
      "execution_count": 16,
      "outputs": []
    },
    {
      "cell_type": "code",
      "source": [
        "# Obtener información sobre las columnas de la tabla 'ratings'\n",
        "cur.execute(\"PRAGMA table_info(ratings)\")\n",
        "columns_ratings = cur.fetchall()\n",
        "\n",
        "# Imprimir el nombre de la columna y su tipo de datos para la tabla 'ratings'\n",
        "print(\"Tipos de datos de las columnas en la tabla 'ratings':\")\n",
        "for column in columns_ratings:\n",
        "    print(column[1] + \": \" + column[2])\n",
        "\n",
        "# Obtener información sobre las columnas de la tabla 'movies'\n",
        "cur.execute(\"PRAGMA table_info(movies)\")\n",
        "columns_movies = cur.fetchall()\n",
        "\n",
        "# Imprimir el nombre de la columna y su tipo de datos para la tabla 'movies'\n",
        "print(\"\\nTipos de datos de las columnas en la tabla 'movies':\")\n",
        "for column in columns_movies:\n",
        "    print(column[1] + \": \" + column[2])"
      ],
      "metadata": {
        "id": "H4RnSuqGghr5",
        "outputId": "4ea247ae-46e4-4e59-bbbc-ec78ea336e49",
        "colab": {
          "base_uri": "https://localhost:8080/"
        }
      },
      "execution_count": 17,
      "outputs": [
        {
          "output_type": "stream",
          "name": "stdout",
          "text": [
            "Tipos de datos de las columnas en la tabla 'ratings':\n",
            "userId: INTEGER\n",
            "movieId: INTEGER\n",
            "rating: REAL\n",
            "timestamp: INTEGER\n",
            "\n",
            "Tipos de datos de las columnas en la tabla 'movies':\n",
            "movieId: INTEGER\n",
            "title: TEXT\n",
            "genres: TEXT\n"
          ]
        }
      ]
    },
    {
      "cell_type": "markdown",
      "source": [
        "#Ajustes tabla movies"
      ],
      "metadata": {
        "id": "wrsXihUA3VZZ"
      }
    },
    {
      "cell_type": "code",
      "source": [
        "#Extraer el año de lanzamiento de la película en la tabla movies, el cual está incluido en el título de película\n",
        "#Agregar una nueva columna para almacenar el año\n",
        "\n",
        "conn = sqlite3.connect('db_movies')\n",
        "cursor = conn.cursor()\n",
        "\n",
        "# Verificar si la columna 'year' ya existe en la tabla 'movies'\n",
        "cursor.execute(\"PRAGMA table_info(movies)\")\n",
        "columns = cursor.fetchall()\n",
        "column_names = [col[1] for col in columns]\n",
        "if 'year' not in column_names:\n",
        "    # Si no existe, agregar la nueva columna\n",
        "    cursor.execute(\"ALTER TABLE movies ADD COLUMN year INTEGER\")\n",
        "\n",
        "# Actualizar la nueva columna con el año extraído del título de la película\n",
        "cursor.execute(\"\"\"\n",
        "    UPDATE movies\n",
        "    SET year = CAST(SUBSTR(title, -5, 4) AS INTEGER)\n",
        "\"\"\")\n",
        "\n",
        "# Confirmar los cambios y cerrar la conexión\n",
        "conn.commit()\n",
        "conn.close()"
      ],
      "metadata": {
        "id": "vLPXhC7tnNxM"
      },
      "execution_count": 18,
      "outputs": []
    },
    {
      "cell_type": "code",
      "source": [
        "conn = sqlite3.connect('db_movies')\n",
        "cursor = conn.cursor()\n",
        "\n",
        "# Verificar las columnas de la tabla 'movies'\n",
        "\n",
        "# Obtener información sobre las columnas de la tabla 'movies'\n",
        "cursor.execute(\"PRAGMA table_info(movies)\")\n",
        "columns_info = cursor.fetchall()\n",
        "\n",
        "# Imprimir el nombre de la columna y su tipo de datos\n",
        "for column in columns_info:\n",
        "    print(column[1], \"-\", column[2])\n",
        "\n",
        "# Cerrar la conexión a la base de datos\n",
        "conn.close()"
      ],
      "metadata": {
        "id": "4ZNzfQt2oamk",
        "outputId": "92431d13-346c-47dc-f3d7-ced8c55e6a75",
        "colab": {
          "base_uri": "https://localhost:8080/"
        }
      },
      "execution_count": 19,
      "outputs": [
        {
          "output_type": "stream",
          "name": "stdout",
          "text": [
            "movieId - INTEGER\n",
            "title - TEXT\n",
            "genres - TEXT\n",
            "year - INTEGER\n"
          ]
        }
      ]
    },
    {
      "cell_type": "code",
      "source": [
        "from google.colab import drive\n",
        "drive.mount('/content/drive')"
      ],
      "metadata": {
        "id": "2OmaSv9F6Wwh"
      },
      "execution_count": null,
      "outputs": []
    },
    {
      "cell_type": "markdown",
      "source": [
        "#Ajustes en la tabla ratings"
      ],
      "metadata": {
        "id": "97eY5pJP3bQg"
      }
    },
    {
      "cell_type": "code",
      "source": [
        "# verificamos el contenido de las primeras filas de la tabla ratings\n",
        "conn = sqlite3.connect('db_movies')\n",
        "\n",
        "query = \"SELECT * FROM ratings LIMIT 5\"\n",
        "\n",
        "# Ejecutar la consulta y cargar los resultados en un DataFrame de Pandas\n",
        "ratings = pd.read_sql(query, conn)\n",
        "\n",
        "# Mostrar las primeras filas del DataFrame\n",
        "print(ratings)\n",
        "conn.close()"
      ],
      "metadata": {
        "id": "qpGhDr2ZTrdh"
      },
      "execution_count": null,
      "outputs": []
    },
    {
      "cell_type": "markdown",
      "source": [
        "#Creación de nuevas tablas"
      ],
      "metadata": {
        "id": "Bv6STEq93kfY"
      }
    },
    {
      "cell_type": "code",
      "source": [
        "conn = sqlite3.connect('db_movies')\n",
        "\n",
        "# Crear tabla con usuarios con más de 50 películas vistas\n",
        "query = \"\"\"\n",
        "    DROP TABLE IF EXISTS usuarios_sel;\n",
        "    CREATE TABLE usuarios_sel AS\n",
        "    SELECT \"userId\" AS user_id, COUNT(*) AS cnt_rat\n",
        "    FROM ratings\n",
        "    GROUP BY \"userId\"\n",
        "    HAVING cnt_rat > 50\n",
        "    ORDER BY cnt_rat DESC;\n",
        "\"\"\"\n",
        "\n",
        "# Ejecutar la consulta\n",
        "conn.executescript(query)\n",
        "\n",
        "conn = sqlite3.connect('db_movies')\n",
        "query = \"SELECT * FROM usuarios_sel LIMIT 5\"\n",
        "# Ejecutar la consulta y cargar los resultados en un DataFrame de Pandas\n",
        "usuarios_sel = pd.read_sql(query, conn)\n",
        "\n",
        "# Mostrar las primeras filas del DataFrame\n",
        "print(usuarios_sel)\n",
        "\n",
        "conn.close()"
      ],
      "metadata": {
        "id": "8ZkUqUGXDK7R"
      },
      "execution_count": null,
      "outputs": []
    },
    {
      "cell_type": "code",
      "source": [
        "# Crear tabla con películas que han sido calificadas por más de 50 usuarios\n",
        "conn = sqlite3.connect('db_movies')\n",
        "\n",
        "query = \"\"\"\n",
        "DROP TABLE IF EXISTS movies_sel;\n",
        "\n",
        "CREATE TABLE movies_sel AS\n",
        "SELECT \"movieId\",\n",
        "       COUNT(*) AS cnt_rat\n",
        "FROM ratings\n",
        "GROUP BY \"movieId\"\n",
        "HAVING cnt_rat > 50\n",
        "ORDER BY cnt_rat DESC;\n",
        "\"\"\"\n",
        "\n",
        "# Ejecutar la consulta\n",
        "conn.executescript(query)\n",
        "conn.close()\n",
        "\n",
        "conn = sqlite3.connect('db_movies')\n",
        "query = \"SELECT * FROM movies_sel LIMIT 5\"\n",
        "# Ejecutar la consulta y cargar los resultados en un DataFrame de Pandas\n",
        "movies_sel = pd.read_sql(query, conn)\n",
        "\n",
        "# Mostrar las primeras filas del DataFrame\n",
        "print(movies_sel)\n",
        "\n",
        "conn.close()"
      ],
      "metadata": {
        "id": "vYY1g_MjFvN9"
      },
      "execution_count": null,
      "outputs": []
    },
    {
      "cell_type": "code",
      "source": [
        "# Crear tablas filtradas de calificaciones con usuarios y películas\n",
        "##ratings_final\n",
        "conn = sqlite3.connect('db_movies')\n",
        "\n",
        "query = \"\"\"\n",
        "DROP TABLE IF EXISTS ratings_final;\n",
        "\n",
        "CREATE TABLE ratings_final AS\n",
        "SELECT a.\"userId\" AS user_id,\n",
        "       a.\"movieId\" AS movie_id,\n",
        "       a.\"rating\" AS rating\n",
        "FROM ratings a\n",
        "INNER JOIN movies_sel b ON a.movieId = b.movieId\n",
        "INNER JOIN usuarios_sel c ON a.\"userId\" = c.user_id;\n",
        "\"\"\"\n",
        "conn.executescript(query)\n",
        "conn.close()\n",
        "\n",
        "conn = sqlite3.connect('db_movies')\n",
        "query = \"SELECT * FROM ratings_final LIMIT 5\"\n",
        "# Ejecutar la consulta y cargar los resultados en un DataFrame de Pandas\n",
        "ratings_final = pd.read_sql(query, conn)\n",
        "\n",
        "# Mostrar las primeras filas del DataFrame\n",
        "print(ratings_final)\n",
        "conn.close()"
      ],
      "metadata": {
        "id": "77ryWF1UGbX5"
      },
      "execution_count": null,
      "outputs": []
    },
    {
      "cell_type": "code",
      "source": [
        "##movies_final\n",
        "# Establecer conexión a la base de datos\n",
        "conn = sqlite3.connect('db_movies')\n",
        "\n",
        "# Definir la consulta SQL para crear la tabla movies_final\n",
        "query = \"\"\"\n",
        "DROP TABLE IF EXISTS movies_final;\n",
        "\n",
        "CREATE TABLE movies_final AS\n",
        "SELECT a.movieId AS movie_id,\n",
        "       a.title AS movie_title,\n",
        "       a.genres,\n",
        "       a.year\n",
        "FROM movies a\n",
        "INNER JOIN movies_sel c ON a.movieId = c.movieId;\n",
        "\"\"\"\n",
        "\n",
        "# Ejecutar la consulta\n",
        "conn.executescript(query)\n",
        "\n",
        "# Cerrar la conexión a la base de datos\n",
        "conn.close()\n",
        "\n",
        "conn = sqlite3.connect('db_movies')\n",
        "query = \"SELECT * FROM movies_final LIMIT 5\"\n",
        "# Ejecutar la consulta y cargar los resultados en un DataFrame de Pandas\n",
        "movies_final = pd.read_sql(query, conn)\n",
        "\n",
        "# Mostrar las primeras filas del DataFrame\n",
        "print(movies_final)\n",
        "conn.close()"
      ],
      "metadata": {
        "id": "fEcmfPLfjKme"
      },
      "execution_count": null,
      "outputs": []
    },
    {
      "cell_type": "code",
      "source": [
        "# Consulta SQL para seleccionar las primeras filas de la tabla full_ratings\n",
        "conn = sqlite3.connect('db_movies')\n",
        "\n",
        "query = \"SELECT * FROM full_ratings LIMIT 5\"  # Cambia el número de filas según tus necesidades\n",
        "\n",
        "# Ejecutar la consulta y cargar los resultados en un DataFrame de Pandas\n",
        "full_ratings = pd.read_sql(query, conn)\n",
        "\n",
        "# Mostrar las primeras filas del DataFrame\n",
        "print(full_ratings)"
      ],
      "metadata": {
        "id": "FOLmlkADlb_c"
      },
      "execution_count": null,
      "outputs": []
    },
    {
      "cell_type": "markdown",
      "source": [
        "# Exportar la tabla preprocesada en SQL"
      ],
      "metadata": {
        "id": "HbK4YD00KKLJ"
      }
    },
    {
      "cell_type": "code",
      "source": [
        "# Consulta SQL para seleccionar todos los datos de la tabla full_ratings\n",
        "query = \"SELECT * FROM full_ratings\"\n",
        "\n",
        "# Leer los datos en un DataFrame de pandas\n",
        "df = pd.read_sql_query(query, conn)\n",
        "\n",
        "# Guardar el DataFrame como un archivo CSV\n",
        "df.to_csv('full_ratings.csv', index=False)\n",
        "\n",
        "print(\"La tabla 'full_ratings' se ha exportado como full_ratings.csv\")\n",
        "\n",
        "# Cerrar la conexión\n",
        "conn.close()"
      ],
      "metadata": {
        "id": "d-n-CdNLKRCY"
      },
      "execution_count": null,
      "outputs": []
    },
    {
      "cell_type": "code",
      "source": [
        "#Verificar tablas creadas en el script\n",
        "# Conectarse a la base de datos\n",
        "conn = sqlite3.connect('db_movies')\n",
        "\n",
        "# Crear un cursor\n",
        "cur = conn.cursor()\n",
        "\n",
        "# Obtener una lista de tablas en la base de datos\n",
        "cur.execute(\"SELECT name FROM sqlite_master WHERE type='table';\")\n",
        "tables = cur.fetchall()\n",
        "\n",
        "# Imprimir los nombres de las tablas para verificar la información\n",
        "for table in tables:\n",
        "    print(table[0])"
      ],
      "metadata": {
        "id": "ff9jWWq8KeAo"
      },
      "execution_count": null,
      "outputs": []
    }
  ]
}